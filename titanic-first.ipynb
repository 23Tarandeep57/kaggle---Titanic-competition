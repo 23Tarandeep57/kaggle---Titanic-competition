{
 "cells": [
  {
   "cell_type": "code",
   "execution_count": 1,
   "id": "bcbc6265",
   "metadata": {
    "_cell_guid": "b1076dfc-b9ad-4769-8c92-a6c4dae69d19",
    "_uuid": "8f2839f25d086af736a60e9eeb907d3b93b6e0e5",
    "execution": {
     "iopub.execute_input": "2024-11-03T19:18:15.888895Z",
     "iopub.status.busy": "2024-11-03T19:18:15.888456Z",
     "iopub.status.idle": "2024-11-03T19:18:16.886837Z",
     "shell.execute_reply": "2024-11-03T19:18:16.885214Z"
    },
    "papermill": {
     "duration": 1.012715,
     "end_time": "2024-11-03T19:18:16.889482",
     "exception": false,
     "start_time": "2024-11-03T19:18:15.876767",
     "status": "completed"
    },
    "tags": []
   },
   "outputs": [
    {
     "name": "stdout",
     "output_type": "stream",
     "text": [
      "/kaggle/input/titanic/train.csv\n",
      "/kaggle/input/titanic/test.csv\n",
      "/kaggle/input/titanic/gender_submission.csv\n"
     ]
    }
   ],
   "source": [
    "# This Python 3 environment comes with many helpful analytics libraries installed\n",
    "# It is defined by the kaggle/python Docker image: https://github.com/kaggle/docker-python\n",
    "# For example, here's several helpful packages to load\n",
    "\n",
    "import numpy as np # linear algebra\n",
    "import pandas as pd # data processing, CSV file I/O (e.g. pd.read_csv)\n",
    "\n",
    "# Input data files are available in the read-only \"../input/\" directory\n",
    "# For example, running this (by clicking run or pressing Shift+Enter) will list all files under the input directory\n",
    "\n",
    "import os\n",
    "for dirname, _, filenames in os.walk('/kaggle/input'):\n",
    "    for filename in filenames:\n",
    "        print(os.path.join(dirname, filename))\n",
    "\n",
    "# You can write up to 20GB to the current directory (/kaggle/working/) that gets preserved as output when you create a version using \"Save & Run All\" \n",
    "# You can also write temporary files to /kaggle/temp/, but they won't be saved outside of the current session"
   ]
  },
  {
   "cell_type": "code",
   "execution_count": 2,
   "id": "80f429ee",
   "metadata": {
    "execution": {
     "iopub.execute_input": "2024-11-03T19:18:16.910652Z",
     "iopub.status.busy": "2024-11-03T19:18:16.910091Z",
     "iopub.status.idle": "2024-11-03T19:18:18.755307Z",
     "shell.execute_reply": "2024-11-03T19:18:18.753833Z"
    },
    "papermill": {
     "duration": 1.859386,
     "end_time": "2024-11-03T19:18:18.758443",
     "exception": false,
     "start_time": "2024-11-03T19:18:16.899057",
     "status": "completed"
    },
    "tags": []
   },
   "outputs": [],
   "source": [
    "import matplotlib.pyplot as plt\n",
    "import seaborn as sns"
   ]
  },
  {
   "cell_type": "code",
   "execution_count": 3,
   "id": "5fa49a6d",
   "metadata": {
    "execution": {
     "iopub.execute_input": "2024-11-03T19:18:18.780971Z",
     "iopub.status.busy": "2024-11-03T19:18:18.780363Z",
     "iopub.status.idle": "2024-11-03T19:18:18.811970Z",
     "shell.execute_reply": "2024-11-03T19:18:18.810783Z"
    },
    "papermill": {
     "duration": 0.044962,
     "end_time": "2024-11-03T19:18:18.814590",
     "exception": false,
     "start_time": "2024-11-03T19:18:18.769628",
     "status": "completed"
    },
    "tags": []
   },
   "outputs": [],
   "source": [
    "training = pd.read_csv('/kaggle/input/titanic/train.csv')\n",
    "testing = pd.read_csv('/kaggle/input/titanic/test.csv')\n"
   ]
  },
  {
   "cell_type": "code",
   "execution_count": 4,
   "id": "ef0951cb",
   "metadata": {
    "execution": {
     "iopub.execute_input": "2024-11-03T19:18:18.835240Z",
     "iopub.status.busy": "2024-11-03T19:18:18.834807Z",
     "iopub.status.idle": "2024-11-03T19:18:18.880400Z",
     "shell.execute_reply": "2024-11-03T19:18:18.879211Z"
    },
    "papermill": {
     "duration": 0.058895,
     "end_time": "2024-11-03T19:18:18.882984",
     "exception": false,
     "start_time": "2024-11-03T19:18:18.824089",
     "status": "completed"
    },
    "tags": []
   },
   "outputs": [
    {
     "data": {
      "text/html": [
       "<div>\n",
       "<style scoped>\n",
       "    .dataframe tbody tr th:only-of-type {\n",
       "        vertical-align: middle;\n",
       "    }\n",
       "\n",
       "    .dataframe tbody tr th {\n",
       "        vertical-align: top;\n",
       "    }\n",
       "\n",
       "    .dataframe thead th {\n",
       "        text-align: right;\n",
       "    }\n",
       "</style>\n",
       "<table border=\"1\" class=\"dataframe\">\n",
       "  <thead>\n",
       "    <tr style=\"text-align: right;\">\n",
       "      <th></th>\n",
       "      <th>PassengerId</th>\n",
       "      <th>Survived</th>\n",
       "      <th>Pclass</th>\n",
       "      <th>Age</th>\n",
       "      <th>SibSp</th>\n",
       "      <th>Parch</th>\n",
       "      <th>Fare</th>\n",
       "    </tr>\n",
       "  </thead>\n",
       "  <tbody>\n",
       "    <tr>\n",
       "      <th>count</th>\n",
       "      <td>891.000000</td>\n",
       "      <td>891.000000</td>\n",
       "      <td>891.000000</td>\n",
       "      <td>714.000000</td>\n",
       "      <td>891.000000</td>\n",
       "      <td>891.000000</td>\n",
       "      <td>891.000000</td>\n",
       "    </tr>\n",
       "    <tr>\n",
       "      <th>mean</th>\n",
       "      <td>446.000000</td>\n",
       "      <td>0.383838</td>\n",
       "      <td>2.308642</td>\n",
       "      <td>29.699118</td>\n",
       "      <td>0.523008</td>\n",
       "      <td>0.381594</td>\n",
       "      <td>32.204208</td>\n",
       "    </tr>\n",
       "    <tr>\n",
       "      <th>std</th>\n",
       "      <td>257.353842</td>\n",
       "      <td>0.486592</td>\n",
       "      <td>0.836071</td>\n",
       "      <td>14.526497</td>\n",
       "      <td>1.102743</td>\n",
       "      <td>0.806057</td>\n",
       "      <td>49.693429</td>\n",
       "    </tr>\n",
       "    <tr>\n",
       "      <th>min</th>\n",
       "      <td>1.000000</td>\n",
       "      <td>0.000000</td>\n",
       "      <td>1.000000</td>\n",
       "      <td>0.420000</td>\n",
       "      <td>0.000000</td>\n",
       "      <td>0.000000</td>\n",
       "      <td>0.000000</td>\n",
       "    </tr>\n",
       "    <tr>\n",
       "      <th>25%</th>\n",
       "      <td>223.500000</td>\n",
       "      <td>0.000000</td>\n",
       "      <td>2.000000</td>\n",
       "      <td>20.125000</td>\n",
       "      <td>0.000000</td>\n",
       "      <td>0.000000</td>\n",
       "      <td>7.910400</td>\n",
       "    </tr>\n",
       "    <tr>\n",
       "      <th>50%</th>\n",
       "      <td>446.000000</td>\n",
       "      <td>0.000000</td>\n",
       "      <td>3.000000</td>\n",
       "      <td>28.000000</td>\n",
       "      <td>0.000000</td>\n",
       "      <td>0.000000</td>\n",
       "      <td>14.454200</td>\n",
       "    </tr>\n",
       "    <tr>\n",
       "      <th>75%</th>\n",
       "      <td>668.500000</td>\n",
       "      <td>1.000000</td>\n",
       "      <td>3.000000</td>\n",
       "      <td>38.000000</td>\n",
       "      <td>1.000000</td>\n",
       "      <td>0.000000</td>\n",
       "      <td>31.000000</td>\n",
       "    </tr>\n",
       "    <tr>\n",
       "      <th>max</th>\n",
       "      <td>891.000000</td>\n",
       "      <td>1.000000</td>\n",
       "      <td>3.000000</td>\n",
       "      <td>80.000000</td>\n",
       "      <td>8.000000</td>\n",
       "      <td>6.000000</td>\n",
       "      <td>512.329200</td>\n",
       "    </tr>\n",
       "  </tbody>\n",
       "</table>\n",
       "</div>"
      ],
      "text/plain": [
       "       PassengerId    Survived      Pclass         Age       SibSp  \\\n",
       "count   891.000000  891.000000  891.000000  714.000000  891.000000   \n",
       "mean    446.000000    0.383838    2.308642   29.699118    0.523008   \n",
       "std     257.353842    0.486592    0.836071   14.526497    1.102743   \n",
       "min       1.000000    0.000000    1.000000    0.420000    0.000000   \n",
       "25%     223.500000    0.000000    2.000000   20.125000    0.000000   \n",
       "50%     446.000000    0.000000    3.000000   28.000000    0.000000   \n",
       "75%     668.500000    1.000000    3.000000   38.000000    1.000000   \n",
       "max     891.000000    1.000000    3.000000   80.000000    8.000000   \n",
       "\n",
       "            Parch        Fare  \n",
       "count  891.000000  891.000000  \n",
       "mean     0.381594   32.204208  \n",
       "std      0.806057   49.693429  \n",
       "min      0.000000    0.000000  \n",
       "25%      0.000000    7.910400  \n",
       "50%      0.000000   14.454200  \n",
       "75%      0.000000   31.000000  \n",
       "max      6.000000  512.329200  "
      ]
     },
     "execution_count": 4,
     "metadata": {},
     "output_type": "execute_result"
    }
   ],
   "source": [
    "training.describe()"
   ]
  },
  {
   "cell_type": "code",
   "execution_count": 5,
   "id": "3e3b130b",
   "metadata": {
    "execution": {
     "iopub.execute_input": "2024-11-03T19:18:18.904276Z",
     "iopub.status.busy": "2024-11-03T19:18:18.903856Z",
     "iopub.status.idle": "2024-11-03T19:18:18.921017Z",
     "shell.execute_reply": "2024-11-03T19:18:18.919921Z"
    },
    "papermill": {
     "duration": 0.030711,
     "end_time": "2024-11-03T19:18:18.923336",
     "exception": false,
     "start_time": "2024-11-03T19:18:18.892625",
     "status": "completed"
    },
    "tags": []
   },
   "outputs": [
    {
     "data": {
      "text/html": [
       "<div>\n",
       "<style scoped>\n",
       "    .dataframe tbody tr th:only-of-type {\n",
       "        vertical-align: middle;\n",
       "    }\n",
       "\n",
       "    .dataframe tbody tr th {\n",
       "        vertical-align: top;\n",
       "    }\n",
       "\n",
       "    .dataframe thead th {\n",
       "        text-align: right;\n",
       "    }\n",
       "</style>\n",
       "<table border=\"1\" class=\"dataframe\">\n",
       "  <thead>\n",
       "    <tr style=\"text-align: right;\">\n",
       "      <th></th>\n",
       "      <th>PassengerId</th>\n",
       "      <th>Survived</th>\n",
       "      <th>Pclass</th>\n",
       "      <th>Name</th>\n",
       "      <th>Sex</th>\n",
       "      <th>Age</th>\n",
       "      <th>SibSp</th>\n",
       "      <th>Parch</th>\n",
       "      <th>Ticket</th>\n",
       "      <th>Fare</th>\n",
       "      <th>Cabin</th>\n",
       "      <th>Embarked</th>\n",
       "    </tr>\n",
       "  </thead>\n",
       "  <tbody>\n",
       "    <tr>\n",
       "      <th>0</th>\n",
       "      <td>1</td>\n",
       "      <td>0</td>\n",
       "      <td>3</td>\n",
       "      <td>Braund, Mr. Owen Harris</td>\n",
       "      <td>male</td>\n",
       "      <td>22.0</td>\n",
       "      <td>1</td>\n",
       "      <td>0</td>\n",
       "      <td>A/5 21171</td>\n",
       "      <td>7.2500</td>\n",
       "      <td>NaN</td>\n",
       "      <td>S</td>\n",
       "    </tr>\n",
       "    <tr>\n",
       "      <th>1</th>\n",
       "      <td>2</td>\n",
       "      <td>1</td>\n",
       "      <td>1</td>\n",
       "      <td>Cumings, Mrs. John Bradley (Florence Briggs Th...</td>\n",
       "      <td>female</td>\n",
       "      <td>38.0</td>\n",
       "      <td>1</td>\n",
       "      <td>0</td>\n",
       "      <td>PC 17599</td>\n",
       "      <td>71.2833</td>\n",
       "      <td>C85</td>\n",
       "      <td>C</td>\n",
       "    </tr>\n",
       "    <tr>\n",
       "      <th>2</th>\n",
       "      <td>3</td>\n",
       "      <td>1</td>\n",
       "      <td>3</td>\n",
       "      <td>Heikkinen, Miss. Laina</td>\n",
       "      <td>female</td>\n",
       "      <td>26.0</td>\n",
       "      <td>0</td>\n",
       "      <td>0</td>\n",
       "      <td>STON/O2. 3101282</td>\n",
       "      <td>7.9250</td>\n",
       "      <td>NaN</td>\n",
       "      <td>S</td>\n",
       "    </tr>\n",
       "    <tr>\n",
       "      <th>3</th>\n",
       "      <td>4</td>\n",
       "      <td>1</td>\n",
       "      <td>1</td>\n",
       "      <td>Futrelle, Mrs. Jacques Heath (Lily May Peel)</td>\n",
       "      <td>female</td>\n",
       "      <td>35.0</td>\n",
       "      <td>1</td>\n",
       "      <td>0</td>\n",
       "      <td>113803</td>\n",
       "      <td>53.1000</td>\n",
       "      <td>C123</td>\n",
       "      <td>S</td>\n",
       "    </tr>\n",
       "    <tr>\n",
       "      <th>4</th>\n",
       "      <td>5</td>\n",
       "      <td>0</td>\n",
       "      <td>3</td>\n",
       "      <td>Allen, Mr. William Henry</td>\n",
       "      <td>male</td>\n",
       "      <td>35.0</td>\n",
       "      <td>0</td>\n",
       "      <td>0</td>\n",
       "      <td>373450</td>\n",
       "      <td>8.0500</td>\n",
       "      <td>NaN</td>\n",
       "      <td>S</td>\n",
       "    </tr>\n",
       "  </tbody>\n",
       "</table>\n",
       "</div>"
      ],
      "text/plain": [
       "   PassengerId  Survived  Pclass  \\\n",
       "0            1         0       3   \n",
       "1            2         1       1   \n",
       "2            3         1       3   \n",
       "3            4         1       1   \n",
       "4            5         0       3   \n",
       "\n",
       "                                                Name     Sex   Age  SibSp  \\\n",
       "0                            Braund, Mr. Owen Harris    male  22.0      1   \n",
       "1  Cumings, Mrs. John Bradley (Florence Briggs Th...  female  38.0      1   \n",
       "2                             Heikkinen, Miss. Laina  female  26.0      0   \n",
       "3       Futrelle, Mrs. Jacques Heath (Lily May Peel)  female  35.0      1   \n",
       "4                           Allen, Mr. William Henry    male  35.0      0   \n",
       "\n",
       "   Parch            Ticket     Fare Cabin Embarked  \n",
       "0      0         A/5 21171   7.2500   NaN        S  \n",
       "1      0          PC 17599  71.2833   C85        C  \n",
       "2      0  STON/O2. 3101282   7.9250   NaN        S  \n",
       "3      0            113803  53.1000  C123        S  \n",
       "4      0            373450   8.0500   NaN        S  "
      ]
     },
     "execution_count": 5,
     "metadata": {},
     "output_type": "execute_result"
    }
   ],
   "source": [
    "training.head()"
   ]
  },
  {
   "cell_type": "code",
   "execution_count": 6,
   "id": "0ee38c35",
   "metadata": {
    "execution": {
     "iopub.execute_input": "2024-11-03T19:18:18.945123Z",
     "iopub.status.busy": "2024-11-03T19:18:18.944682Z",
     "iopub.status.idle": "2024-11-03T19:18:18.952431Z",
     "shell.execute_reply": "2024-11-03T19:18:18.951268Z"
    },
    "papermill": {
     "duration": 0.021678,
     "end_time": "2024-11-03T19:18:18.954951",
     "exception": false,
     "start_time": "2024-11-03T19:18:18.933273",
     "status": "completed"
    },
    "tags": []
   },
   "outputs": [],
   "source": [
    "training[\"Sex_num\"] = training.Sex.apply(lambda x: 1 if x == 'male' else 0)"
   ]
  },
  {
   "cell_type": "code",
   "execution_count": 7,
   "id": "c18d4b31",
   "metadata": {
    "execution": {
     "iopub.execute_input": "2024-11-03T19:18:18.976493Z",
     "iopub.status.busy": "2024-11-03T19:18:18.975633Z",
     "iopub.status.idle": "2024-11-03T19:18:18.999912Z",
     "shell.execute_reply": "2024-11-03T19:18:18.998799Z"
    },
    "papermill": {
     "duration": 0.038045,
     "end_time": "2024-11-03T19:18:19.002715",
     "exception": false,
     "start_time": "2024-11-03T19:18:18.964670",
     "status": "completed"
    },
    "tags": []
   },
   "outputs": [
    {
     "data": {
      "text/plain": [
       "Index(['PassengerId', 'Survived', 'Pclass', 'Age', 'SibSp', 'Parch', 'Fare',\n",
       "       'Sex_num'],\n",
       "      dtype='object')"
      ]
     },
     "execution_count": 7,
     "metadata": {},
     "output_type": "execute_result"
    }
   ],
   "source": [
    "training.describe().columns"
   ]
  },
  {
   "cell_type": "code",
   "execution_count": 8,
   "id": "4ecac639",
   "metadata": {
    "execution": {
     "iopub.execute_input": "2024-11-03T19:18:19.024065Z",
     "iopub.status.busy": "2024-11-03T19:18:19.023634Z",
     "iopub.status.idle": "2024-11-03T19:18:19.052522Z",
     "shell.execute_reply": "2024-11-03T19:18:19.051494Z"
    },
    "papermill": {
     "duration": 0.042654,
     "end_time": "2024-11-03T19:18:19.055172",
     "exception": false,
     "start_time": "2024-11-03T19:18:19.012518",
     "status": "completed"
    },
    "tags": []
   },
   "outputs": [
    {
     "name": "stdout",
     "output_type": "stream",
     "text": [
      "<class 'pandas.core.frame.DataFrame'>\n",
      "RangeIndex: 891 entries, 0 to 890\n",
      "Data columns (total 13 columns):\n",
      " #   Column       Non-Null Count  Dtype  \n",
      "---  ------       --------------  -----  \n",
      " 0   PassengerId  891 non-null    int64  \n",
      " 1   Survived     891 non-null    int64  \n",
      " 2   Pclass       891 non-null    int64  \n",
      " 3   Name         891 non-null    object \n",
      " 4   Sex          891 non-null    object \n",
      " 5   Age          714 non-null    float64\n",
      " 6   SibSp        891 non-null    int64  \n",
      " 7   Parch        891 non-null    int64  \n",
      " 8   Ticket       891 non-null    object \n",
      " 9   Fare         891 non-null    float64\n",
      " 10  Cabin        204 non-null    object \n",
      " 11  Embarked     889 non-null    object \n",
      " 12  Sex_num      891 non-null    int64  \n",
      "dtypes: float64(2), int64(6), object(5)\n",
      "memory usage: 90.6+ KB\n"
     ]
    }
   ],
   "source": [
    "training.info()"
   ]
  },
  {
   "cell_type": "code",
   "execution_count": 9,
   "id": "1e11467f",
   "metadata": {
    "execution": {
     "iopub.execute_input": "2024-11-03T19:18:19.077365Z",
     "iopub.status.busy": "2024-11-03T19:18:19.076929Z",
     "iopub.status.idle": "2024-11-03T19:18:19.087580Z",
     "shell.execute_reply": "2024-11-03T19:18:19.086396Z"
    },
    "papermill": {
     "duration": 0.025199,
     "end_time": "2024-11-03T19:18:19.090396",
     "exception": false,
     "start_time": "2024-11-03T19:18:19.065197",
     "status": "completed"
    },
    "tags": []
   },
   "outputs": [],
   "source": [
    "df_num = training[['Age','SibSp','Parch','Fare']]\n",
    "df_cat = training[['Survived','Pclass','Sex','Ticket','Cabin','Embarked']]"
   ]
  },
  {
   "cell_type": "code",
   "execution_count": 10,
   "id": "6a9acb3f",
   "metadata": {
    "execution": {
     "iopub.execute_input": "2024-11-03T19:18:19.112121Z",
     "iopub.status.busy": "2024-11-03T19:18:19.111703Z",
     "iopub.status.idle": "2024-11-03T19:18:20.199337Z",
     "shell.execute_reply": "2024-11-03T19:18:20.197916Z"
    },
    "papermill": {
     "duration": 1.101528,
     "end_time": "2024-11-03T19:18:20.201988",
     "exception": false,
     "start_time": "2024-11-03T19:18:19.100460",
     "status": "completed"
    },
    "tags": []
   },
   "outputs": [
    {
     "data": {
      "image/png": "[encoded data removed]",
      "text/plain": [
       "<Figure size 640x480 with 1 Axes>"
      ]
     },
     "metadata": {},
     "output_type": "display_data"
    },
    {
     "data": {
      "image/png": "[encoded data removed]",
      "text/plain": [
       "<Figure size 640x480 with 1 Axes>"
      ]
     },
     "metadata": {},
     "output_type": "display_data"
    },
    {
     "data": {
      "image/png": "[encoded data removed]",
      "text/plain": [
       "<Figure size 640x480 with 1 Axes>"
      ]
     },
     "metadata": {},
     "output_type": "display_data"
    },
    {
     "data": {
      "image/png": "[encoded data removed]",
      "text/plain": [
       "<Figure size 640x480 with 1 Axes>"
      ]
     },
     "metadata": {},
     "output_type": "display_data"
    }
   ],
   "source": [
    "for i in df_num:\n",
    "    plt.hist(df_num[i])\n",
    "    plt.title(i)\n",
    "    plt.show()"
   ]
  },
  {
   "cell_type": "markdown",
   "id": "5ff91bd3",
   "metadata": {
    "papermill": {
     "duration": 0.011102,
     "end_time": "2024-11-03T19:18:20.225094",
     "exception": false,
     "start_time": "2024-11-03T19:18:20.213992",
     "status": "completed"
    },
    "tags": []
   },
   "source": [
    "<h1><b>need for normalisation of num_df columns</b></h1>"
   ]
  },
  {
   "cell_type": "code",
   "execution_count": 11,
   "id": "92a8b39d",
   "metadata": {
    "execution": {
     "iopub.execute_input": "2024-11-03T19:18:20.249193Z",
     "iopub.status.busy": "2024-11-03T19:18:20.248772Z",
     "iopub.status.idle": "2024-11-03T19:18:28.579324Z",
     "shell.execute_reply": "2024-11-03T19:18:28.578177Z"
    },
    "papermill": {
     "duration": 8.345572,
     "end_time": "2024-11-03T19:18:28.581793",
     "exception": false,
     "start_time": "2024-11-03T19:18:20.236221",
     "status": "completed"
    },
    "tags": []
   },
   "outputs": [
    {
     "data": {
      "image/png": "[encoded data removed]",
      "text/plain": [
       "<Figure size 640x480 with 1 Axes>"
      ]
     },
     "metadata": {},
     "output_type": "display_data"
    },
    {
     "data": {
      "image/png": "[encoded data removed]",
      "text/plain": [
       "<Figure size 640x480 with 1 Axes>"
      ]
     },
     "metadata": {},
     "output_type": "display_data"
    },
    {
     "data": {
      "image/png": "[encoded data removed]",
      "text/plain": [
       "<Figure size 640x480 with 1 Axes>"
      ]
     },
     "metadata": {},
     "output_type": "display_data"
    },
    {
     "data": {
      "image/png": "[encoded data removed]",
      "text/plain": [
       "<Figure size 640x480 with 1 Axes>"
      ]
     },
     "metadata": {},
     "output_type": "display_data"
    },
    {
     "data": {
      "image/png": "[encoded data removed]",
      "text/plain": [
       "<Figure size 640x480 with 1 Axes>"
      ]
     },
     "metadata": {},
     "output_type": "display_data"
    },
    {
     "data": {
      "image/png": "[encoded data removed]",
      "text/plain": [
       "<Figure size 640x480 with 1 Axes>"
      ]
     },
     "metadata": {},
     "output_type": "display_data"
    }
   ],
   "source": [
    "for i in df_cat.columns:\n",
    "    sns.barplot(x = df_cat[i].value_counts().index,y = df_cat[i].value_counts())\n",
    "    plt.title(i)\n",
    "    plt.xticks(rotation = 0)\n",
    "    plt.show()"
   ]
  },
  {
   "cell_type": "code",
   "execution_count": 12,
   "id": "0046148d",
   "metadata": {
    "execution": {
     "iopub.execute_input": "2024-11-03T19:18:28.610110Z",
     "iopub.status.busy": "2024-11-03T19:18:28.609706Z",
     "iopub.status.idle": "2024-11-03T19:18:28.899979Z",
     "shell.execute_reply": "2024-11-03T19:18:28.898826Z"
    },
    "papermill": {
     "duration": 0.306999,
     "end_time": "2024-11-03T19:18:28.902580",
     "exception": false,
     "start_time": "2024-11-03T19:18:28.595581",
     "status": "completed"
    },
    "tags": []
   },
   "outputs": [
    {
     "name": "stdout",
     "output_type": "stream",
     "text": [
      "            Age     SibSp     Parch      Fare\n",
      "Age    1.000000 -0.308247 -0.189119  0.096067\n",
      "SibSp -0.308247  1.000000  0.414838  0.159651\n",
      "Parch -0.189119  0.414838  1.000000  0.216225\n",
      "Fare   0.096067  0.159651  0.216225  1.000000\n"
     ]
    },
    {
     "data": {
      "text/plain": [
       "<Axes: >"
      ]
     },
     "execution_count": 12,
     "metadata": {},
     "output_type": "execute_result"
    },
    {
     "data": {
      "image/png": "[encoded data removed]",
      "text/plain": [
       "<Figure size 640x480 with 2 Axes>"
      ]
     },
     "metadata": {},
     "output_type": "display_data"
    }
   ],
   "source": [
    "print(df_num.corr())\n",
    "sns.heatmap(df_num.corr())"
   ]
  },
  {
   "cell_type": "code",
   "execution_count": 13,
   "id": "26a051ae",
   "metadata": {
    "execution": {
     "iopub.execute_input": "2024-11-03T19:18:28.931771Z",
     "iopub.status.busy": "2024-11-03T19:18:28.930757Z",
     "iopub.status.idle": "2024-11-03T19:18:28.963262Z",
     "shell.execute_reply": "2024-11-03T19:18:28.962074Z"
    },
    "papermill": {
     "duration": 0.049611,
     "end_time": "2024-11-03T19:18:28.965694",
     "exception": false,
     "start_time": "2024-11-03T19:18:28.916083",
     "status": "completed"
    },
    "tags": []
   },
   "outputs": [
    {
     "name": "stdout",
     "output_type": "stream",
     "text": [
      "Sex       female  male\n",
      "Survived              \n",
      "0             81   468\n",
      "1            233   109\n",
      "\n",
      "Pclass      1   2    3\n",
      "Survived              \n",
      "0          80  97  372\n",
      "1         136  87  119\n",
      "\n",
      "Embarked   C   Q    S\n",
      "Survived             \n",
      "0         75  47  427\n",
      "1         93  30  217\n",
      "\n"
     ]
    }
   ],
   "source": [
    "print(pd.pivot_table(df_cat, index = 'Survived', columns = 'Sex', aggfunc = 'count', values = 'Ticket'))\n",
    "print()\n",
    "print(pd.pivot_table(df_cat, index = 'Survived', columns = 'Pclass', aggfunc = 'count', values = 'Ticket'))\n",
    "print()\n",
    "print(pd.pivot_table(df_cat, index = 'Survived', columns = 'Embarked', aggfunc = 'count', values = 'Ticket'))\n",
    "print()"
   ]
  },
  {
   "cell_type": "code",
   "execution_count": 14,
   "id": "8720bd53",
   "metadata": {
    "execution": {
     "iopub.execute_input": "2024-11-03T19:18:28.994557Z",
     "iopub.status.busy": "2024-11-03T19:18:28.994123Z",
     "iopub.status.idle": "2024-11-03T19:18:29.001594Z",
     "shell.execute_reply": "2024-11-03T19:18:29.000325Z"
    },
    "papermill": {
     "duration": 0.024796,
     "end_time": "2024-11-03T19:18:29.004043",
     "exception": false,
     "start_time": "2024-11-03T19:18:28.979247",
     "status": "completed"
    },
    "tags": []
   },
   "outputs": [],
   "source": [
    "training['numeric_ticket'] = training.Ticket.apply(lambda x: 1 if x.isnumeric() else 0)"
   ]
  },
  {
   "cell_type": "code",
   "execution_count": 15,
   "id": "2d65c704",
   "metadata": {
    "execution": {
     "iopub.execute_input": "2024-11-03T19:18:29.033287Z",
     "iopub.status.busy": "2024-11-03T19:18:29.032275Z",
     "iopub.status.idle": "2024-11-03T19:18:29.048862Z",
     "shell.execute_reply": "2024-11-03T19:18:29.047538Z"
    },
    "papermill": {
     "duration": 0.033809,
     "end_time": "2024-11-03T19:18:29.051471",
     "exception": false,
     "start_time": "2024-11-03T19:18:29.017662",
     "status": "completed"
    },
    "tags": []
   },
   "outputs": [
    {
     "data": {
      "text/html": [
       "<div>\n",
       "<style scoped>\n",
       "    .dataframe tbody tr th:only-of-type {\n",
       "        vertical-align: middle;\n",
       "    }\n",
       "\n",
       "    .dataframe tbody tr th {\n",
       "        vertical-align: top;\n",
       "    }\n",
       "\n",
       "    .dataframe thead th {\n",
       "        text-align: right;\n",
       "    }\n",
       "</style>\n",
       "<table border=\"1\" class=\"dataframe\">\n",
       "  <thead>\n",
       "    <tr style=\"text-align: right;\">\n",
       "      <th>numeric_ticket</th>\n",
       "      <th>0</th>\n",
       "      <th>1</th>\n",
       "    </tr>\n",
       "    <tr>\n",
       "      <th>Survived</th>\n",
       "      <th></th>\n",
       "      <th></th>\n",
       "    </tr>\n",
       "  </thead>\n",
       "  <tbody>\n",
       "    <tr>\n",
       "      <th>0</th>\n",
       "      <td>142</td>\n",
       "      <td>407</td>\n",
       "    </tr>\n",
       "    <tr>\n",
       "      <th>1</th>\n",
       "      <td>88</td>\n",
       "      <td>254</td>\n",
       "    </tr>\n",
       "  </tbody>\n",
       "</table>\n",
       "</div>"
      ],
      "text/plain": [
       "numeric_ticket    0    1\n",
       "Survived                \n",
       "0               142  407\n",
       "1                88  254"
      ]
     },
     "execution_count": 15,
     "metadata": {},
     "output_type": "execute_result"
    }
   ],
   "source": [
    "pd.pivot_table(data = training, values = 'Ticket', columns='numeric_ticket', index = 'Survived', aggfunc = 'count')"
   ]
  },
  {
   "cell_type": "code",
   "execution_count": 16,
   "id": "50815c0b",
   "metadata": {
    "execution": {
     "iopub.execute_input": "2024-11-03T19:18:29.080920Z",
     "iopub.status.busy": "2024-11-03T19:18:29.080132Z",
     "iopub.status.idle": "2024-11-03T19:18:29.087652Z",
     "shell.execute_reply": "2024-11-03T19:18:29.086378Z"
    },
    "papermill": {
     "duration": 0.025331,
     "end_time": "2024-11-03T19:18:29.090404",
     "exception": false,
     "start_time": "2024-11-03T19:18:29.065073",
     "status": "completed"
    },
    "tags": []
   },
   "outputs": [],
   "source": [
    "training['name_title'] = training.Name.apply(lambda x: x.split(',')[1].split('.')[0].strip())"
   ]
  },
  {
   "cell_type": "code",
   "execution_count": 17,
   "id": "0bc865bd",
   "metadata": {
    "execution": {
     "iopub.execute_input": "2024-11-03T19:18:29.120686Z",
     "iopub.status.busy": "2024-11-03T19:18:29.120233Z",
     "iopub.status.idle": "2024-11-03T19:18:29.129859Z",
     "shell.execute_reply": "2024-11-03T19:18:29.128848Z"
    },
    "papermill": {
     "duration": 0.027028,
     "end_time": "2024-11-03T19:18:29.131996",
     "exception": false,
     "start_time": "2024-11-03T19:18:29.104968",
     "status": "completed"
    },
    "tags": []
   },
   "outputs": [
    {
     "data": {
      "text/plain": [
       "name_title\n",
       "Mr              517\n",
       "Miss            182\n",
       "Mrs             125\n",
       "Master           40\n",
       "Dr                7\n",
       "Rev               6\n",
       "Mlle              2\n",
       "Major             2\n",
       "Col               2\n",
       "the Countess      1\n",
       "Capt              1\n",
       "Ms                1\n",
       "Sir               1\n",
       "Lady              1\n",
       "Mme               1\n",
       "Don               1\n",
       "Jonkheer          1\n",
       "Name: count, dtype: int64"
      ]
     },
     "execution_count": 17,
     "metadata": {},
     "output_type": "execute_result"
    }
   ],
   "source": [
    "training['name_title'].value_counts()"
   ]
  },
  {
   "cell_type": "code",
   "execution_count": 18,
   "id": "e12e05eb",
   "metadata": {
    "execution": {
     "iopub.execute_input": "2024-11-03T19:18:29.161117Z",
     "iopub.status.busy": "2024-11-03T19:18:29.160683Z",
     "iopub.status.idle": "2024-11-03T19:18:29.172368Z",
     "shell.execute_reply": "2024-11-03T19:18:29.171339Z"
    },
    "papermill": {
     "duration": 0.02905,
     "end_time": "2024-11-03T19:18:29.174789",
     "exception": false,
     "start_time": "2024-11-03T19:18:29.145739",
     "status": "completed"
    },
    "tags": []
   },
   "outputs": [
    {
     "data": {
      "text/plain": [
       "Index(['PassengerId', 'Survived', 'Pclass', 'Name', 'Sex', 'Age', 'SibSp',\n",
       "       'Parch', 'Ticket', 'Fare', 'Cabin', 'Embarked', 'Sex_num',\n",
       "       'numeric_ticket', 'name_title', 'test_train'],\n",
       "      dtype='object')"
      ]
     },
     "execution_count": 18,
     "metadata": {},
     "output_type": "execute_result"
    }
   ],
   "source": [
    "training['test_train'] = 1;\n",
    "testing['test_train'] = 0;\n",
    "all_data = pd.concat([training, testing])\n",
    "all_data.columns"
   ]
  },
  {
   "cell_type": "code",
   "execution_count": 19,
   "id": "dbf83e30",
   "metadata": {
    "execution": {
     "iopub.execute_input": "2024-11-03T19:18:29.210060Z",
     "iopub.status.busy": "2024-11-03T19:18:29.209604Z",
     "iopub.status.idle": "2024-11-03T19:18:29.224858Z",
     "shell.execute_reply": "2024-11-03T19:18:29.223438Z"
    },
    "papermill": {
     "duration": 0.038135,
     "end_time": "2024-11-03T19:18:29.227482",
     "exception": false,
     "start_time": "2024-11-03T19:18:29.189347",
     "status": "completed"
    },
    "tags": []
   },
   "outputs": [],
   "source": [
    "all_data['name_title'] = training.Name.apply(lambda x: x.split(',')[1].split('.')[0].strip())\n",
    "all_data['numeric_ticket'] = training.Ticket.apply(lambda x: 1 if x.isnumeric() else 0)\n",
    "\n",
    "all_data.dropna(subset = ['Embarked'], inplace = True)\n",
    "\n",
    "all_data.Age = all_data.Age.fillna(training.Age.median())\n",
    "all_data.Fare = all_data.Fare.fillna(training.Fare.median())"
   ]
  },
  {
   "cell_type": "code",
   "execution_count": 20,
   "id": "9c850cdc",
   "metadata": {
    "execution": {
     "iopub.execute_input": "2024-11-03T19:18:29.257728Z",
     "iopub.status.busy": "2024-11-03T19:18:29.257302Z",
     "iopub.status.idle": "2024-11-03T19:18:29.272354Z",
     "shell.execute_reply": "2024-11-03T19:18:29.271265Z"
    },
    "papermill": {
     "duration": 0.033472,
     "end_time": "2024-11-03T19:18:29.274831",
     "exception": false,
     "start_time": "2024-11-03T19:18:29.241359",
     "status": "completed"
    },
    "tags": []
   },
   "outputs": [
    {
     "name": "stdout",
     "output_type": "stream",
     "text": [
      "<class 'pandas.core.frame.DataFrame'>\n",
      "Index: 1307 entries, 0 to 417\n",
      "Data columns (total 16 columns):\n",
      " #   Column          Non-Null Count  Dtype  \n",
      "---  ------          --------------  -----  \n",
      " 0   PassengerId     1307 non-null   int64  \n",
      " 1   Survived        889 non-null    float64\n",
      " 2   Pclass          1307 non-null   int64  \n",
      " 3   Name            1307 non-null   object \n",
      " 4   Sex             1307 non-null   object \n",
      " 5   Age             1307 non-null   float64\n",
      " 6   SibSp           1307 non-null   int64  \n",
      " 7   Parch           1307 non-null   int64  \n",
      " 8   Ticket          1307 non-null   object \n",
      " 9   Fare            1307 non-null   float64\n",
      " 10  Cabin           293 non-null    object \n",
      " 11  Embarked        1307 non-null   object \n",
      " 12  Sex_num         889 non-null    float64\n",
      " 13  numeric_ticket  1307 non-null   int64  \n",
      " 14  name_title      1307 non-null   object \n",
      " 15  test_train      1307 non-null   int64  \n",
      "dtypes: float64(4), int64(6), object(6)\n",
      "memory usage: 173.6+ KB\n"
     ]
    }
   ],
   "source": [
    "all_data.info()"
   ]
  },
  {
   "cell_type": "code",
   "execution_count": 21,
   "id": "9d60acdf",
   "metadata": {
    "execution": {
     "iopub.execute_input": "2024-11-03T19:18:29.304938Z",
     "iopub.status.busy": "2024-11-03T19:18:29.304235Z",
     "iopub.status.idle": "2024-11-03T19:18:29.311814Z",
     "shell.execute_reply": "2024-11-03T19:18:29.310752Z"
    },
    "papermill": {
     "duration": 0.025211,
     "end_time": "2024-11-03T19:18:29.314150",
     "exception": false,
     "start_time": "2024-11-03T19:18:29.288939",
     "status": "completed"
    },
    "tags": []
   },
   "outputs": [],
   "source": [
    "all_data.Pclass = all_data.Pclass.astype(str)\n",
    "all_data.Parch = all_data.Parch.astype(str)"
   ]
  },
  {
   "cell_type": "code",
   "execution_count": 22,
   "id": "c83d75b3",
   "metadata": {
    "execution": {
     "iopub.execute_input": "2024-11-03T19:18:29.344666Z",
     "iopub.status.busy": "2024-11-03T19:18:29.343753Z",
     "iopub.status.idle": "2024-11-03T19:18:29.352533Z",
     "shell.execute_reply": "2024-11-03T19:18:29.351092Z"
    },
    "papermill": {
     "duration": 0.026554,
     "end_time": "2024-11-03T19:18:29.355067",
     "exception": false,
     "start_time": "2024-11-03T19:18:29.328513",
     "status": "completed"
    },
    "tags": []
   },
   "outputs": [],
   "source": [
    "all_data['age_norm'] = np.log(all_data['Age'] + 1)\n",
    "all_data['fare_norm'] = np.log(all_data['Fare'] + 1)"
   ]
  },
  {
   "cell_type": "code",
   "execution_count": 23,
   "id": "bfce4504",
   "metadata": {
    "execution": {
     "iopub.execute_input": "2024-11-03T19:18:29.385449Z",
     "iopub.status.busy": "2024-11-03T19:18:29.384412Z",
     "iopub.status.idle": "2024-11-03T19:18:29.406171Z",
     "shell.execute_reply": "2024-11-03T19:18:29.404894Z"
    },
    "papermill": {
     "duration": 0.039818,
     "end_time": "2024-11-03T19:18:29.408818",
     "exception": false,
     "start_time": "2024-11-03T19:18:29.369000",
     "status": "completed"
    },
    "tags": []
   },
   "outputs": [
    {
     "data": {
      "text/plain": [
       "(889,)"
      ]
     },
     "execution_count": 23,
     "metadata": {},
     "output_type": "execute_result"
    }
   ],
   "source": [
    "dummies = pd.get_dummies(all_data[['fare_norm','age_norm','Pclass', 'Parch', 'Sex', 'name_title', 'SibSp', 'Embarked', 'numeric_ticket', 'test_train']])\n",
    "x_train = dummies[dummies['test_train'] == 1].drop(['test_train'], axis = 1)\n",
    "x_test = dummies[dummies['test_train'] == 0].drop(['test_train'], axis = 1)\n",
    "y_train = all_data[all_data['test_train'] == 1].Survived\n",
    "y_train.shape"
   ]
  },
  {
   "cell_type": "code",
   "execution_count": 24,
   "id": "db9aaa72",
   "metadata": {
    "execution": {
     "iopub.execute_input": "2024-11-03T19:18:29.438842Z",
     "iopub.status.busy": "2024-11-03T19:18:29.438438Z",
     "iopub.status.idle": "2024-11-03T19:18:30.046922Z",
     "shell.execute_reply": "2024-11-03T19:18:30.045486Z"
    },
    "papermill": {
     "duration": 0.626696,
     "end_time": "2024-11-03T19:18:30.049544",
     "exception": false,
     "start_time": "2024-11-03T19:18:29.422848",
     "status": "completed"
    },
    "tags": []
   },
   "outputs": [],
   "source": [
    "from sklearn.model_selection import cross_val_score\n",
    "from sklearn.naive_bayes import GaussianNB\n",
    "from sklearn.linear_model import LogisticRegression\n",
    "from sklearn.neighbors import KNeighborsClassifier\n",
    "from sklearn.ensemble import RandomForestClassifier\n",
    "from sklearn.svm import SVC\n",
    "from sklearn import tree"
   ]
  },
  {
   "cell_type": "code",
   "execution_count": 25,
   "id": "b5ca2f76",
   "metadata": {
    "execution": {
     "iopub.execute_input": "2024-11-03T19:18:30.079665Z",
     "iopub.status.busy": "2024-11-03T19:18:30.079221Z",
     "iopub.status.idle": "2024-11-03T19:18:30.097314Z",
     "shell.execute_reply": "2024-11-03T19:18:30.096079Z"
    },
    "papermill": {
     "duration": 0.03661,
     "end_time": "2024-11-03T19:18:30.100163",
     "exception": false,
     "start_time": "2024-11-03T19:18:30.063553",
     "status": "completed"
    },
    "tags": []
   },
   "outputs": [],
   "source": [
    "from sklearn.preprocessing import StandardScaler\n",
    "scale = StandardScaler()\n",
    "dummies_scaled = dummies.copy()\n",
    "dummies_scaled[['age_norm', 'fare_norm', 'SibSp']] = scale.fit_transform(dummies_scaled[['age_norm', 'fare_norm', 'SibSp']])\n",
    "\n",
    "x_train_scaled = dummies_scaled[dummies_scaled.test_train == 1].drop(['test_train'], axis =1)\n",
    "x_test_scaled = dummies_scaled[dummies_scaled.test_train == 0].drop(['test_train'], axis =1)\n",
    "\n",
    "y_train = all_data[all_data.test_train==1].Survived\n"
   ]
  },
  {
   "cell_type": "code",
   "execution_count": 26,
   "id": "22ec1c0e",
   "metadata": {
    "execution": {
     "iopub.execute_input": "2024-11-03T19:18:30.130906Z",
     "iopub.status.busy": "2024-11-03T19:18:30.130459Z",
     "iopub.status.idle": "2024-11-03T19:18:30.144824Z",
     "shell.execute_reply": "2024-11-03T19:18:30.143719Z"
    },
    "papermill": {
     "duration": 0.032686,
     "end_time": "2024-11-03T19:18:30.147587",
     "exception": false,
     "start_time": "2024-11-03T19:18:30.114901",
     "status": "completed"
    },
    "tags": []
   },
   "outputs": [
    {
     "name": "stdout",
     "output_type": "stream",
     "text": [
      "<class 'pandas.core.frame.DataFrame'>\n",
      "Index: 889 entries, 0 to 890\n",
      "Data columns (total 37 columns):\n",
      " #   Column                   Non-Null Count  Dtype  \n",
      "---  ------                   --------------  -----  \n",
      " 0   fare_norm                889 non-null    float64\n",
      " 1   age_norm                 889 non-null    float64\n",
      " 2   SibSp                    889 non-null    float64\n",
      " 3   numeric_ticket           889 non-null    int64  \n",
      " 4   Pclass_1                 889 non-null    bool   \n",
      " 5   Pclass_2                 889 non-null    bool   \n",
      " 6   Pclass_3                 889 non-null    bool   \n",
      " 7   Parch_0                  889 non-null    bool   \n",
      " 8   Parch_1                  889 non-null    bool   \n",
      " 9   Parch_2                  889 non-null    bool   \n",
      " 10  Parch_3                  889 non-null    bool   \n",
      " 11  Parch_4                  889 non-null    bool   \n",
      " 12  Parch_5                  889 non-null    bool   \n",
      " 13  Parch_6                  889 non-null    bool   \n",
      " 14  Parch_9                  889 non-null    bool   \n",
      " 15  Sex_female               889 non-null    bool   \n",
      " 16  Sex_male                 889 non-null    bool   \n",
      " 17  name_title_Capt          889 non-null    bool   \n",
      " 18  name_title_Col           889 non-null    bool   \n",
      " 19  name_title_Don           889 non-null    bool   \n",
      " 20  name_title_Dr            889 non-null    bool   \n",
      " 21  name_title_Jonkheer      889 non-null    bool   \n",
      " 22  name_title_Lady          889 non-null    bool   \n",
      " 23  name_title_Major         889 non-null    bool   \n",
      " 24  name_title_Master        889 non-null    bool   \n",
      " 25  name_title_Miss          889 non-null    bool   \n",
      " 26  name_title_Mlle          889 non-null    bool   \n",
      " 27  name_title_Mme           889 non-null    bool   \n",
      " 28  name_title_Mr            889 non-null    bool   \n",
      " 29  name_title_Mrs           889 non-null    bool   \n",
      " 30  name_title_Ms            889 non-null    bool   \n",
      " 31  name_title_Rev           889 non-null    bool   \n",
      " 32  name_title_Sir           889 non-null    bool   \n",
      " 33  name_title_the Countess  889 non-null    bool   \n",
      " 34  Embarked_C               889 non-null    bool   \n",
      " 35  Embarked_Q               889 non-null    bool   \n",
      " 36  Embarked_S               889 non-null    bool   \n",
      "dtypes: bool(33), float64(3), int64(1)\n",
      "memory usage: 63.4 KB\n"
     ]
    }
   ],
   "source": [
    "x_train_scaled.info()"
   ]
  },
  {
   "cell_type": "code",
   "execution_count": 27,
   "id": "bb246658",
   "metadata": {
    "execution": {
     "iopub.execute_input": "2024-11-03T19:18:30.181213Z",
     "iopub.status.busy": "2024-11-03T19:18:30.179444Z",
     "iopub.status.idle": "2024-11-03T19:18:30.236525Z",
     "shell.execute_reply": "2024-11-03T19:18:30.234906Z"
    },
    "papermill": {
     "duration": 0.077154,
     "end_time": "2024-11-03T19:18:30.239239",
     "exception": false,
     "start_time": "2024-11-03T19:18:30.162085",
     "status": "completed"
    },
    "tags": []
   },
   "outputs": [
    {
     "name": "stdout",
     "output_type": "stream",
     "text": [
      "[0.78651685 0.80337079 0.39325843 0.73033708 0.83615819]\n",
      "0.7099282676315622\n"
     ]
    }
   ],
   "source": [
    "g = GaussianNB() \n",
    "cv = cross_val_score(g, x_train_scaled, y_train, cv = 5)\n",
    "print(cv)\n",
    "print(cv.mean())"
   ]
  },
  {
   "cell_type": "code",
   "execution_count": 28,
   "id": "6f390778",
   "metadata": {
    "execution": {
     "iopub.execute_input": "2024-11-03T19:18:30.270044Z",
     "iopub.status.busy": "2024-11-03T19:18:30.269590Z",
     "iopub.status.idle": "2024-11-03T19:18:30.510764Z",
     "shell.execute_reply": "2024-11-03T19:18:30.509609Z"
    },
    "papermill": {
     "duration": 0.260715,
     "end_time": "2024-11-03T19:18:30.514546",
     "exception": false,
     "start_time": "2024-11-03T19:18:30.253831",
     "status": "completed"
    },
    "tags": []
   },
   "outputs": [
    {
     "name": "stdout",
     "output_type": "stream",
     "text": [
      "[0.82022472 0.81460674 0.79775281 0.79213483 0.85875706]\n",
      "0.8166952326540976\n"
     ]
    }
   ],
   "source": [
    "lr = LogisticRegression(max_iter = 2000)\n",
    "cv = cross_val_score(lr, x_train_scaled, y_train, cv = 5)\n",
    "print(cv)\n",
    "print(cv.mean())"
   ]
  },
  {
   "cell_type": "code",
   "execution_count": 29,
   "id": "21c55fcb",
   "metadata": {
    "execution": {
     "iopub.execute_input": "2024-11-03T19:18:30.563523Z",
     "iopub.status.busy": "2024-11-03T19:18:30.562767Z",
     "iopub.status.idle": "2024-11-03T19:18:30.658388Z",
     "shell.execute_reply": "2024-11-03T19:18:30.656710Z"
    },
    "papermill": {
     "duration": 0.131798,
     "end_time": "2024-11-03T19:18:30.670148",
     "exception": false,
     "start_time": "2024-11-03T19:18:30.538350",
     "status": "completed"
    },
    "tags": []
   },
   "outputs": [
    {
     "name": "stdout",
     "output_type": "stream",
     "text": [
      "[0.76404494 0.76966292 0.83707865 0.74719101 0.75706215]\n",
      "0.7750079349965086\n"
     ]
    },
    {
     "data": {
      "text/html": [
       "<style>#sk-container-id-1 {color: black;background-color: white;}#sk-container-id-1 pre{padding: 0;}#sk-container-id-1 div.sk-toggleable {background-color: white;}#sk-container-id-1 label.sk-toggleable__label {cursor: pointer;display: block;width: 100%;margin-bottom: 0;padding: 0.3em;box-sizing: border-box;text-align: center;}#sk-container-id-1 label.sk-toggleable__label-arrow:before {content: \"▸\";float: left;margin-right: 0.25em;color: #696969;}#sk-container-id-1 label.sk-toggleable__label-arrow:hover:before {color: black;}#sk-container-id-1 div.sk-estimator:hover label.sk-toggleable__label-arrow:before {color: black;}#sk-container-id-1 div.sk-toggleable__content {max-height: 0;max-width: 0;overflow: hidden;text-align: left;background-color: #f0f8ff;}#sk-container-id-1 div.sk-toggleable__content pre {margin: 0.2em;color: black;border-radius: 0.25em;background-color: #f0f8ff;}#sk-container-id-1 input.sk-toggleable__control:checked~div.sk-toggleable__content {max-height: 200px;max-width: 100%;overflow: auto;}#sk-container-id-1 input.sk-toggleable__control:checked~label.sk-toggleable__label-arrow:before {content: \"▾\";}#sk-container-id-1 div.sk-estimator input.sk-toggleable__control:checked~label.sk-toggleable__label {background-color: #d4ebff;}#sk-container-id-1 div.sk-label input.sk-toggleable__control:checked~label.sk-toggleable__label {background-color: #d4ebff;}#sk-container-id-1 input.sk-hidden--visually {border: 0;clip: rect(1px 1px 1px 1px);clip: rect(1px, 1px, 1px, 1px);height: 1px;margin: -1px;overflow: hidden;padding: 0;position: absolute;width: 1px;}#sk-container-id-1 div.sk-estimator {font-family: monospace;background-color: #f0f8ff;border: 1px dotted black;border-radius: 0.25em;box-sizing: border-box;margin-bottom: 0.5em;}#sk-container-id-1 div.sk-estimator:hover {background-color: #d4ebff;}#sk-container-id-1 div.sk-parallel-item::after {content: \"\";width: 100%;border-bottom: 1px solid gray;flex-grow: 1;}#sk-container-id-1 div.sk-label:hover label.sk-toggleable__label {background-color: #d4ebff;}#sk-container-id-1 div.sk-serial::before {content: \"\";position: absolute;border-left: 1px solid gray;box-sizing: border-box;top: 0;bottom: 0;left: 50%;z-index: 0;}#sk-container-id-1 div.sk-serial {display: flex;flex-direction: column;align-items: center;background-color: white;padding-right: 0.2em;padding-left: 0.2em;position: relative;}#sk-container-id-1 div.sk-item {position: relative;z-index: 1;}#sk-container-id-1 div.sk-parallel {display: flex;align-items: stretch;justify-content: center;background-color: white;position: relative;}#sk-container-id-1 div.sk-item::before, #sk-container-id-1 div.sk-parallel-item::before {content: \"\";position: absolute;border-left: 1px solid gray;box-sizing: border-box;top: 0;bottom: 0;left: 50%;z-index: -1;}#sk-container-id-1 div.sk-parallel-item {display: flex;flex-direction: column;z-index: 1;position: relative;background-color: white;}#sk-container-id-1 div.sk-parallel-item:first-child::after {align-self: flex-end;width: 50%;}#sk-container-id-1 div.sk-parallel-item:last-child::after {align-self: flex-start;width: 50%;}#sk-container-id-1 div.sk-parallel-item:only-child::after {width: 0;}#sk-container-id-1 div.sk-dashed-wrapped {border: 1px dashed gray;margin: 0 0.4em 0.5em 0.4em;box-sizing: border-box;padding-bottom: 0.4em;background-color: white;}#sk-container-id-1 div.sk-label label {font-family: monospace;font-weight: bold;display: inline-block;line-height: 1.2em;}#sk-container-id-1 div.sk-label-container {text-align: center;}#sk-container-id-1 div.sk-container {/* jupyter's `normalize.less` sets `[hidden] { display: none; }` but bootstrap.min.css set `[hidden] { display: none !important; }` so we also need the `!important` here to be able to override the default hidden behavior on the sphinx rendered scikit-learn.org. See: https://github.com/scikit-learn/scikit-learn/issues/21755 */display: inline-block !important;position: relative;}#sk-container-id-1 div.sk-text-repr-fallback {display: none;}</style><div id=\"sk-container-id-1\" class=\"sk-top-container\"><div class=\"sk-text-repr-fallback\"><pre>DecisionTreeClassifier(random_state=1)</pre><b>In a Jupyter environment, please rerun this cell to show the HTML representation or trust the notebook. <br />On GitHub, the HTML representation is unable to render, please try loading this page with nbviewer.org.</b></div><div class=\"sk-container\" hidden><div class=\"sk-item\"><div class=\"sk-estimator sk-toggleable\"><input class=\"sk-toggleable__control sk-hidden--visually\" id=\"sk-estimator-id-1\" type=\"checkbox\" checked><label for=\"sk-estimator-id-1\" class=\"sk-toggleable__label sk-toggleable__label-arrow\">DecisionTreeClassifier</label><div class=\"sk-toggleable__content\"><pre>DecisionTreeClassifier(random_state=1)</pre></div></div></div></div></div>"
      ],
      "text/plain": [
       "DecisionTreeClassifier(random_state=1)"
      ]
     },
     "execution_count": 29,
     "metadata": {},
     "output_type": "execute_result"
    }
   ],
   "source": [
    "dt = tree.DecisionTreeClassifier(random_state = 1)\n",
    "cv = cross_val_score(dt, x_train_scaled, y_train, cv = 5)\n",
    "print(cv)\n",
    "print(cv.mean())\n",
    "dt.fit(x_train_scaled, y_train)"
   ]
  },
  {
   "cell_type": "code",
   "execution_count": 30,
   "id": "9bbdaa1b",
   "metadata": {
    "execution": {
     "iopub.execute_input": "2024-11-03T19:18:30.704012Z",
     "iopub.status.busy": "2024-11-03T19:18:30.703472Z",
     "iopub.status.idle": "2024-11-03T19:18:43.786112Z",
     "shell.execute_reply": "2024-11-03T19:18:43.784968Z"
    },
    "papermill": {
     "duration": 13.101529,
     "end_time": "2024-11-03T19:18:43.788469",
     "exception": false,
     "start_time": "2024-11-03T19:18:30.686940",
     "status": "completed"
    },
    "tags": []
   },
   "outputs": [
    {
     "data": {
      "text/plain": [
       "[Text(0.45465515525477707, 0.9722222222222222, 'x[28] <= 0.5\\ngini = 0.472\\nsamples = 889\\nvalue = [549, 340]'),\n",
       " Text(0.18963972929936307, 0.9166666666666666, 'x[6] <= 0.5\\ngini = 0.423\\nsamples = 372\\nvalue = [113, 259]'),\n",
       " Text(0.08200636942675159, 0.8611111111111112, 'x[31] <= 0.5\\ngini = 0.211\\nsamples = 200\\nvalue = [24, 176]'),\n",
       " Text(0.07563694267515923, 0.8055555555555556, 'x[16] <= 0.5\\ngini = 0.168\\nsamples = 194\\nvalue = [18, 176]'),\n",
       " Text(0.052547770700636945, 0.75, 'x[1] <= -3.402\\ngini = 0.101\\nsamples = 168\\nvalue = [9, 159]'),\n",
       " Text(0.03503184713375796, 0.6944444444444444, 'x[0] <= 1.225\\ngini = 0.5\\nsamples = 2\\nvalue = [1, 1]'),\n",
       " Text(0.028662420382165606, 0.6388888888888888, 'gini = 0.0\\nsamples = 1\\nvalue = [0, 1]'),\n",
       " Text(0.041401273885350316, 0.6388888888888888, 'gini = 0.0\\nsamples = 1\\nvalue = [1, 0]'),\n",
       " Text(0.07006369426751592, 0.6944444444444444, 'x[0] <= 0.434\\ngini = 0.092\\nsamples = 166\\nvalue = [8, 158]'),\n",
       " Text(0.054140127388535034, 0.6388888888888888, 'x[0] <= 0.412\\ngini = 0.182\\nsamples = 69\\nvalue = [7, 62]'),\n",
       " Text(0.04777070063694268, 0.5833333333333334, 'x[1] <= 1.252\\ngini = 0.161\\nsamples = 68\\nvalue = [6, 62]'),\n",
       " Text(0.03503184713375796, 0.5277777777777778, 'x[3] <= 0.5\\ngini = 0.14\\nsamples = 66\\nvalue = [5, 61]'),\n",
       " Text(0.028662420382165606, 0.4722222222222222, 'gini = 0.0\\nsamples = 20\\nvalue = [0, 20]'),\n",
       " Text(0.041401273885350316, 0.4722222222222222, 'x[2] <= 0.0\\ngini = 0.194\\nsamples = 46\\nvalue = [5, 41]'),\n",
       " Text(0.025477707006369428, 0.4166666666666667, 'x[25] <= 0.5\\ngini = 0.117\\nsamples = 32\\nvalue = [2, 30]'),\n",
       " Text(0.01910828025477707, 0.3611111111111111, 'gini = 0.0\\nsamples = 15\\nvalue = [0, 15]'),\n",
       " Text(0.03184713375796178, 0.3611111111111111, 'x[1] <= 0.578\\ngini = 0.208\\nsamples = 17\\nvalue = [2, 15]'),\n",
       " Text(0.01910828025477707, 0.3055555555555556, 'x[1] <= -0.023\\ngini = 0.124\\nsamples = 15\\nvalue = [1, 14]'),\n",
       " Text(0.012738853503184714, 0.25, 'x[1] <= -0.303\\ngini = 0.245\\nsamples = 7\\nvalue = [1, 6]'),\n",
       " Text(0.006369426751592357, 0.19444444444444445, 'gini = 0.0\\nsamples = 5\\nvalue = [0, 5]'),\n",
       " Text(0.01910828025477707, 0.19444444444444445, 'gini = 0.5\\nsamples = 2\\nvalue = [1, 1]'),\n",
       " Text(0.025477707006369428, 0.25, 'gini = 0.0\\nsamples = 8\\nvalue = [0, 8]'),\n",
       " Text(0.044585987261146494, 0.3055555555555556, 'x[1] <= 0.663\\ngini = 0.5\\nsamples = 2\\nvalue = [1, 1]'),\n",
       " Text(0.03821656050955414, 0.25, 'gini = 0.0\\nsamples = 1\\nvalue = [1, 0]'),\n",
       " Text(0.050955414012738856, 0.25, 'gini = 0.0\\nsamples = 1\\nvalue = [0, 1]'),\n",
       " Text(0.05732484076433121, 0.4166666666666667, 'x[1] <= -0.053\\ngini = 0.337\\nsamples = 14\\nvalue = [3, 11]'),\n",
       " Text(0.050955414012738856, 0.3611111111111111, 'gini = 0.0\\nsamples = 5\\nvalue = [0, 5]'),\n",
       " Text(0.06369426751592357, 0.3611111111111111, 'x[1] <= 0.1\\ngini = 0.444\\nsamples = 9\\nvalue = [3, 6]'),\n",
       " Text(0.05732484076433121, 0.3055555555555556, 'gini = 0.0\\nsamples = 2\\nvalue = [2, 0]'),\n",
       " Text(0.07006369426751592, 0.3055555555555556, 'x[1] <= 0.697\\ngini = 0.245\\nsamples = 7\\nvalue = [1, 6]'),\n",
       " Text(0.06369426751592357, 0.25, 'gini = 0.0\\nsamples = 5\\nvalue = [0, 5]'),\n",
       " Text(0.07643312101910828, 0.25, 'x[1] <= 1.027\\ngini = 0.5\\nsamples = 2\\nvalue = [1, 1]'),\n",
       " Text(0.07006369426751592, 0.19444444444444445, 'gini = 0.0\\nsamples = 1\\nvalue = [1, 0]'),\n",
       " Text(0.08280254777070063, 0.19444444444444445, 'gini = 0.0\\nsamples = 1\\nvalue = [0, 1]'),\n",
       " Text(0.06050955414012739, 0.5277777777777778, 'x[4] <= 0.5\\ngini = 0.5\\nsamples = 2\\nvalue = [1, 1]'),\n",
       " Text(0.054140127388535034, 0.4722222222222222, 'gini = 0.0\\nsamples = 1\\nvalue = [1, 0]'),\n",
       " Text(0.06687898089171974, 0.4722222222222222, 'gini = 0.0\\nsamples = 1\\nvalue = [0, 1]'),\n",
       " Text(0.06050955414012739, 0.5833333333333334, 'gini = 0.0\\nsamples = 1\\nvalue = [1, 0]'),\n",
       " Text(0.08598726114649681, 0.6388888888888888, 'x[9] <= 0.5\\ngini = 0.02\\nsamples = 97\\nvalue = [1, 96]'),\n",
       " Text(0.07961783439490445, 0.5833333333333334, 'gini = 0.0\\nsamples = 82\\nvalue = [0, 82]'),\n",
       " Text(0.09235668789808917, 0.5833333333333334, 'x[25] <= 0.5\\ngini = 0.124\\nsamples = 15\\nvalue = [1, 14]'),\n",
       " Text(0.08598726114649681, 0.5277777777777778, 'x[0] <= 2.0\\ngini = 0.375\\nsamples = 4\\nvalue = [1, 3]'),\n",
       " Text(0.07961783439490445, 0.4722222222222222, 'gini = 0.0\\nsamples = 3\\nvalue = [0, 3]'),\n",
       " Text(0.09235668789808917, 0.4722222222222222, 'gini = 0.0\\nsamples = 1\\nvalue = [1, 0]'),\n",
       " Text(0.09872611464968153, 0.5277777777777778, 'gini = 0.0\\nsamples = 11\\nvalue = [0, 11]'),\n",
       " Text(0.09872611464968153, 0.75, 'x[1] <= -0.761\\ngini = 0.453\\nsamples = 26\\nvalue = [9, 17]'),\n",
       " Text(0.09235668789808917, 0.6944444444444444, 'gini = 0.0\\nsamples = 12\\nvalue = [0, 12]'),\n",
       " Text(0.10509554140127389, 0.6944444444444444, 'x[0] <= 0.441\\ngini = 0.459\\nsamples = 14\\nvalue = [9, 5]'),\n",
       " Text(0.09872611464968153, 0.6388888888888888, 'gini = 0.0\\nsamples = 6\\nvalue = [6, 0]'),\n",
       " Text(0.11146496815286625, 0.6388888888888888, 'x[0] <= 0.696\\ngini = 0.469\\nsamples = 8\\nvalue = [3, 5]'),\n",
       " Text(0.10509554140127389, 0.5833333333333334, 'gini = 0.0\\nsamples = 3\\nvalue = [0, 3]'),\n",
       " Text(0.1178343949044586, 0.5833333333333334, 'x[1] <= 0.947\\ngini = 0.48\\nsamples = 5\\nvalue = [3, 2]'),\n",
       " Text(0.11146496815286625, 0.5277777777777778, 'gini = 0.0\\nsamples = 2\\nvalue = [2, 0]'),\n",
       " Text(0.12420382165605096, 0.5277777777777778, 'x[7] <= 0.5\\ngini = 0.444\\nsamples = 3\\nvalue = [1, 2]'),\n",
       " Text(0.1178343949044586, 0.4722222222222222, 'gini = 0.0\\nsamples = 1\\nvalue = [1, 0]'),\n",
       " Text(0.1305732484076433, 0.4722222222222222, 'gini = 0.0\\nsamples = 2\\nvalue = [0, 2]'),\n",
       " Text(0.08837579617834394, 0.8055555555555556, 'gini = 0.0\\nsamples = 6\\nvalue = [6, 0]'),\n",
       " Text(0.29727308917197454, 0.8611111111111112, 'x[0] <= 0.223\\ngini = 0.499\\nsamples = 172\\nvalue = [89, 83]'),\n",
       " Text(0.2474124203821656, 0.8055555555555556, 'x[1] <= 0.557\\ngini = 0.473\\nsamples = 128\\nvalue = [49, 79]'),\n",
       " Text(0.21695859872611464, 0.75, 'x[36] <= 0.5\\ngini = 0.458\\nsamples = 121\\nvalue = [43, 78]'),\n",
       " Text(0.1751592356687898, 0.6944444444444444, 'x[1] <= 0.226\\ngini = 0.388\\nsamples = 57\\nvalue = [15, 42]'),\n",
       " Text(0.16878980891719744, 0.6388888888888888, 'x[0] <= -0.188\\ngini = 0.361\\nsamples = 55\\nvalue = [13, 42]'),\n",
       " Text(0.1624203821656051, 0.5833333333333334, 'x[0] <= -0.283\\ngini = 0.416\\nsamples = 44\\nvalue = [13, 31]'),\n",
       " Text(0.14968152866242038, 0.5277777777777778, 'x[9] <= 0.5\\ngini = 0.298\\nsamples = 33\\nvalue = [6, 27]'),\n",
       " Text(0.14331210191082802, 0.4722222222222222, 'x[0] <= -0.93\\ngini = 0.264\\nsamples = 32\\nvalue = [5, 27]'),\n",
       " Text(0.13694267515923567, 0.4166666666666667, 'gini = 0.0\\nsamples = 1\\nvalue = [1, 0]'),\n",
       " Text(0.14968152866242038, 0.4166666666666667, 'x[1] <= -0.409\\ngini = 0.225\\nsamples = 31\\nvalue = [4, 27]'),\n",
       " Text(0.14331210191082802, 0.3611111111111111, 'gini = 0.0\\nsamples = 10\\nvalue = [0, 10]'),\n",
       " Text(0.15605095541401273, 0.3611111111111111, 'x[1] <= -0.293\\ngini = 0.308\\nsamples = 21\\nvalue = [4, 17]'),\n",
       " Text(0.14968152866242038, 0.3055555555555556, 'gini = 0.0\\nsamples = 1\\nvalue = [1, 0]'),\n",
       " Text(0.1624203821656051, 0.3055555555555556, 'x[0] <= -0.806\\ngini = 0.255\\nsamples = 20\\nvalue = [3, 17]'),\n",
       " Text(0.15605095541401273, 0.25, 'x[0] <= -0.844\\ngini = 0.188\\nsamples = 19\\nvalue = [2, 17]'),\n",
       " Text(0.14331210191082802, 0.19444444444444445, 'x[35] <= 0.5\\ngini = 0.444\\nsamples = 3\\nvalue = [1, 2]'),\n",
       " Text(0.13694267515923567, 0.1388888888888889, 'gini = 0.0\\nsamples = 2\\nvalue = [0, 2]'),\n",
       " Text(0.14968152866242038, 0.1388888888888889, 'gini = 0.0\\nsamples = 1\\nvalue = [1, 0]'),\n",
       " Text(0.16878980891719744, 0.19444444444444445, 'x[0] <= -0.833\\ngini = 0.117\\nsamples = 16\\nvalue = [1, 15]'),\n",
       " Text(0.1624203821656051, 0.1388888888888889, 'x[0] <= -0.836\\ngini = 0.165\\nsamples = 11\\nvalue = [1, 10]'),\n",
       " Text(0.15605095541401273, 0.08333333333333333, 'gini = 0.0\\nsamples = 2\\nvalue = [0, 2]'),\n",
       " Text(0.16878980891719744, 0.08333333333333333, 'x[1] <= -0.063\\ngini = 0.198\\nsamples = 9\\nvalue = [1, 8]'),\n",
       " Text(0.1624203821656051, 0.027777777777777776, 'gini = 0.0\\nsamples = 1\\nvalue = [0, 1]'),\n",
       " Text(0.1751592356687898, 0.027777777777777776, 'gini = 0.219\\nsamples = 8\\nvalue = [1, 7]'),\n",
       " Text(0.1751592356687898, 0.1388888888888889, 'gini = 0.0\\nsamples = 5\\nvalue = [0, 5]'),\n",
       " Text(0.16878980891719744, 0.25, 'gini = 0.0\\nsamples = 1\\nvalue = [1, 0]'),\n",
       " Text(0.15605095541401273, 0.4722222222222222, 'gini = 0.0\\nsamples = 1\\nvalue = [1, 0]'),\n",
       " Text(0.1751592356687898, 0.5277777777777778, 'x[25] <= 0.5\\ngini = 0.463\\nsamples = 11\\nvalue = [7, 4]'),\n",
       " Text(0.16878980891719744, 0.4722222222222222, 'x[29] <= 0.5\\ngini = 0.444\\nsamples = 6\\nvalue = [2, 4]'),\n",
       " Text(0.1624203821656051, 0.4166666666666667, 'gini = 0.0\\nsamples = 2\\nvalue = [0, 2]'),\n",
       " Text(0.1751592356687898, 0.4166666666666667, 'x[1] <= -0.365\\ngini = 0.5\\nsamples = 4\\nvalue = [2, 2]'),\n",
       " Text(0.16878980891719744, 0.3611111111111111, 'gini = 0.0\\nsamples = 1\\nvalue = [0, 1]'),\n",
       " Text(0.18152866242038215, 0.3611111111111111, 'x[1] <= 0.158\\ngini = 0.444\\nsamples = 3\\nvalue = [2, 1]'),\n",
       " Text(0.1751592356687898, 0.3055555555555556, 'gini = 0.0\\nsamples = 2\\nvalue = [2, 0]'),\n",
       " Text(0.18789808917197454, 0.3055555555555556, 'gini = 0.0\\nsamples = 1\\nvalue = [0, 1]'),\n",
       " Text(0.18152866242038215, 0.4722222222222222, 'gini = 0.0\\nsamples = 5\\nvalue = [5, 0]'),\n",
       " Text(0.1751592356687898, 0.5833333333333334, 'gini = 0.0\\nsamples = 11\\nvalue = [0, 11]'),\n",
       " Text(0.18152866242038215, 0.6388888888888888, 'gini = 0.0\\nsamples = 2\\nvalue = [2, 0]'),\n",
       " Text(0.2587579617834395, 0.6944444444444444, 'x[0] <= -0.524\\ngini = 0.492\\nsamples = 64\\nvalue = [28, 36]'),\n",
       " Text(0.21496815286624205, 0.6388888888888888, 'x[0] <= -0.834\\ngini = 0.489\\nsamples = 33\\nvalue = [19, 14]'),\n",
       " Text(0.1942675159235669, 0.5833333333333334, 'x[1] <= -0.028\\ngini = 0.278\\nsamples = 6\\nvalue = [1, 5]'),\n",
       " Text(0.18789808917197454, 0.5277777777777778, 'gini = 0.0\\nsamples = 5\\nvalue = [0, 5]'),\n",
       " Text(0.20063694267515925, 0.5277777777777778, 'gini = 0.0\\nsamples = 1\\nvalue = [1, 0]'),\n",
       " Text(0.2356687898089172, 0.5833333333333334, 'x[1] <= -0.447\\ngini = 0.444\\nsamples = 27\\nvalue = [18, 9]'),\n",
       " Text(0.21337579617834396, 0.5277777777777778, 'x[1] <= -0.815\\ngini = 0.49\\nsamples = 7\\nvalue = [3, 4]'),\n",
       " Text(0.2070063694267516, 0.4722222222222222, 'gini = 0.0\\nsamples = 2\\nvalue = [2, 0]'),\n",
       " Text(0.2197452229299363, 0.4722222222222222, 'x[0] <= -0.828\\ngini = 0.32\\nsamples = 5\\nvalue = [1, 4]'),\n",
       " Text(0.21337579617834396, 0.4166666666666667, 'gini = 0.0\\nsamples = 1\\nvalue = [1, 0]'),\n",
       " Text(0.22611464968152867, 0.4166666666666667, 'gini = 0.0\\nsamples = 4\\nvalue = [0, 4]'),\n",
       " Text(0.25796178343949044, 0.5277777777777778, 'x[0] <= -0.808\\ngini = 0.375\\nsamples = 20\\nvalue = [15, 5]'),\n",
       " Text(0.24522292993630573, 0.4722222222222222, 'x[1] <= 0.1\\ngini = 0.494\\nsamples = 9\\nvalue = [5, 4]'),\n",
       " Text(0.23885350318471338, 0.4166666666666667, 'x[1] <= -0.021\\ngini = 0.49\\nsamples = 7\\nvalue = [3, 4]'),\n",
       " Text(0.23248407643312102, 0.3611111111111111, 'x[1] <= -0.22\\ngini = 0.375\\nsamples = 4\\nvalue = [3, 1]'),\n",
       " Text(0.22611464968152867, 0.3055555555555556, 'gini = 0.0\\nsamples = 1\\nvalue = [0, 1]'),\n",
       " Text(0.23885350318471338, 0.3055555555555556, 'gini = 0.0\\nsamples = 3\\nvalue = [3, 0]'),\n",
       " Text(0.24522292993630573, 0.3611111111111111, 'gini = 0.0\\nsamples = 3\\nvalue = [0, 3]'),\n",
       " Text(0.2515923566878981, 0.4166666666666667, 'gini = 0.0\\nsamples = 2\\nvalue = [2, 0]'),\n",
       " Text(0.27070063694267515, 0.4722222222222222, 'x[1] <= 0.267\\ngini = 0.165\\nsamples = 11\\nvalue = [10, 1]'),\n",
       " Text(0.2643312101910828, 0.4166666666666667, 'gini = 0.0\\nsamples = 10\\nvalue = [10, 0]'),\n",
       " Text(0.2770700636942675, 0.4166666666666667, 'gini = 0.0\\nsamples = 1\\nvalue = [0, 1]'),\n",
       " Text(0.30254777070063693, 0.6388888888888888, 'x[0] <= -0.056\\ngini = 0.412\\nsamples = 31\\nvalue = [9, 22]'),\n",
       " Text(0.28343949044585987, 0.5833333333333334, 'x[1] <= -0.053\\ngini = 0.188\\nsamples = 19\\nvalue = [2, 17]'),\n",
       " Text(0.2770700636942675, 0.5277777777777778, 'gini = 0.0\\nsamples = 10\\nvalue = [0, 10]'),\n",
       " Text(0.2898089171974522, 0.5277777777777778, 'x[1] <= 0.041\\ngini = 0.346\\nsamples = 9\\nvalue = [2, 7]'),\n",
       " Text(0.28343949044585987, 0.4722222222222222, 'gini = 0.0\\nsamples = 1\\nvalue = [1, 0]'),\n",
       " Text(0.2961783439490446, 0.4722222222222222, 'x[8] <= 0.5\\ngini = 0.219\\nsamples = 8\\nvalue = [1, 7]'),\n",
       " Text(0.2898089171974522, 0.4166666666666667, 'gini = 0.0\\nsamples = 6\\nvalue = [0, 6]'),\n",
       " Text(0.30254777070063693, 0.4166666666666667, 'x[0] <= -0.32\\ngini = 0.5\\nsamples = 2\\nvalue = [1, 1]'),\n",
       " Text(0.2961783439490446, 0.3611111111111111, 'gini = 0.0\\nsamples = 1\\nvalue = [0, 1]'),\n",
       " Text(0.3089171974522293, 0.3611111111111111, 'gini = 0.0\\nsamples = 1\\nvalue = [1, 0]'),\n",
       " Text(0.321656050955414, 0.5833333333333334, 'x[9] <= 0.5\\ngini = 0.486\\nsamples = 12\\nvalue = [7, 5]'),\n",
       " Text(0.31528662420382164, 0.5277777777777778, 'x[1] <= 0.24\\ngini = 0.346\\nsamples = 9\\nvalue = [7, 2]'),\n",
       " Text(0.3089171974522293, 0.4722222222222222, 'gini = 0.0\\nsamples = 6\\nvalue = [6, 0]'),\n",
       " Text(0.321656050955414, 0.4722222222222222, 'x[7] <= 0.5\\ngini = 0.444\\nsamples = 3\\nvalue = [1, 2]'),\n",
       " Text(0.31528662420382164, 0.4166666666666667, 'gini = 0.0\\nsamples = 2\\nvalue = [0, 2]'),\n",
       " Text(0.32802547770700635, 0.4166666666666667, 'gini = 0.0\\nsamples = 1\\nvalue = [1, 0]'),\n",
       " Text(0.32802547770700635, 0.5277777777777778, 'gini = 0.0\\nsamples = 3\\nvalue = [0, 3]'),\n",
       " Text(0.2778662420382166, 0.75, 'x[1] <= 1.206\\ngini = 0.245\\nsamples = 7\\nvalue = [6, 1]'),\n",
       " Text(0.2714968152866242, 0.6944444444444444, 'gini = 0.0\\nsamples = 6\\nvalue = [6, 0]'),\n",
       " Text(0.28423566878980894, 0.6944444444444444, 'gini = 0.0\\nsamples = 1\\nvalue = [0, 1]'),\n",
       " Text(0.3471337579617834, 0.8055555555555556, 'x[7] <= 0.5\\ngini = 0.165\\nsamples = 44\\nvalue = [40, 4]'),\n",
       " Text(0.34076433121019106, 0.75, 'x[0] <= 0.516\\ngini = 0.13\\nsamples = 43\\nvalue = [40, 3]'),\n",
       " Text(0.3343949044585987, 0.6944444444444444, 'gini = 0.0\\nsamples = 23\\nvalue = [23, 0]'),\n",
       " Text(0.3471337579617834, 0.6944444444444444, 'x[0] <= 0.563\\ngini = 0.255\\nsamples = 20\\nvalue = [17, 3]'),\n",
       " Text(0.34076433121019106, 0.6388888888888888, 'x[24] <= 0.5\\ngini = 0.375\\nsamples = 4\\nvalue = [1, 3]'),\n",
       " Text(0.3343949044585987, 0.5833333333333334, 'gini = 0.0\\nsamples = 2\\nvalue = [0, 2]'),\n",
       " Text(0.3471337579617834, 0.5833333333333334, 'x[1] <= -2.401\\ngini = 0.5\\nsamples = 2\\nvalue = [1, 1]'),\n",
       " Text(0.34076433121019106, 0.5277777777777778, 'gini = 0.0\\nsamples = 1\\nvalue = [0, 1]'),\n",
       " Text(0.3535031847133758, 0.5277777777777778, 'gini = 0.0\\nsamples = 1\\nvalue = [1, 0]'),\n",
       " Text(0.3535031847133758, 0.6388888888888888, 'gini = 0.0\\nsamples = 16\\nvalue = [16, 0]'),\n",
       " Text(0.3535031847133758, 0.75, 'gini = 0.0\\nsamples = 1\\nvalue = [0, 1]'),\n",
       " Text(0.7196705812101911, 0.9166666666666666, 'x[0] <= 0.34\\ngini = 0.264\\nsamples = 517\\nvalue = [436, 81]'),\n",
       " Text(0.5822551751592356, 0.8611111111111112, 'x[3] <= 0.5\\ngini = 0.18\\nsamples = 390\\nvalue = [351, 39]'),\n",
       " Text(0.42277070063694266, 0.8055555555555556, 'x[1] <= -0.387\\ngini = 0.247\\nsamples = 97\\nvalue = [83, 14]'),\n",
       " Text(0.37579617834394907, 0.75, 'x[0] <= -0.864\\ngini = 0.459\\nsamples = 14\\nvalue = [9, 5]'),\n",
       " Text(0.36942675159235666, 0.6944444444444444, 'gini = 0.0\\nsamples = 3\\nvalue = [3, 0]'),\n",
       " Text(0.3821656050955414, 0.6944444444444444, 'x[1] <= -0.666\\ngini = 0.496\\nsamples = 11\\nvalue = [6, 5]'),\n",
       " Text(0.3662420382165605, 0.6388888888888888, 'x[0] <= -0.677\\ngini = 0.375\\nsamples = 4\\nvalue = [3, 1]'),\n",
       " Text(0.35987261146496813, 0.5833333333333334, 'gini = 0.5\\nsamples = 2\\nvalue = [1, 1]'),\n",
       " Text(0.37261146496815284, 0.5833333333333334, 'gini = 0.0\\nsamples = 2\\nvalue = [2, 0]'),\n",
       " Text(0.3980891719745223, 0.6388888888888888, 'x[1] <= -0.447\\ngini = 0.49\\nsamples = 7\\nvalue = [3, 4]'),\n",
       " Text(0.3853503184713376, 0.5833333333333334, 'x[0] <= -0.794\\ngini = 0.375\\nsamples = 4\\nvalue = [1, 3]'),\n",
       " Text(0.37898089171974525, 0.5277777777777778, 'gini = 0.0\\nsamples = 2\\nvalue = [0, 2]'),\n",
       " Text(0.39171974522292996, 0.5277777777777778, 'x[6] <= 0.5\\ngini = 0.5\\nsamples = 2\\nvalue = [1, 1]'),\n",
       " Text(0.3853503184713376, 0.4722222222222222, 'gini = 0.0\\nsamples = 1\\nvalue = [0, 1]'),\n",
       " Text(0.3980891719745223, 0.4722222222222222, 'gini = 0.0\\nsamples = 1\\nvalue = [1, 0]'),\n",
       " Text(0.410828025477707, 0.5833333333333334, 'x[2] <= 0.0\\ngini = 0.444\\nsamples = 3\\nvalue = [2, 1]'),\n",
       " Text(0.40445859872611467, 0.5277777777777778, 'gini = 0.0\\nsamples = 2\\nvalue = [2, 0]'),\n",
       " Text(0.4171974522292994, 0.5277777777777778, 'gini = 0.0\\nsamples = 1\\nvalue = [0, 1]'),\n",
       " Text(0.4697452229299363, 0.75, 'x[1] <= 0.267\\ngini = 0.193\\nsamples = 83\\nvalue = [74, 9]'),\n",
       " Text(0.4426751592356688, 0.6944444444444444, 'x[0] <= -2.0\\ngini = 0.111\\nsamples = 51\\nvalue = [48, 3]'),\n",
       " Text(0.43630573248407645, 0.6388888888888888, 'gini = 0.0\\nsamples = 1\\nvalue = [0, 1]'),\n",
       " Text(0.44904458598726116, 0.6388888888888888, 'x[34] <= 0.5\\ngini = 0.077\\nsamples = 50\\nvalue = [48, 2]'),\n",
       " Text(0.43630573248407645, 0.5833333333333334, 'x[0] <= -0.903\\ngini = 0.043\\nsamples = 46\\nvalue = [45, 1]'),\n",
       " Text(0.4299363057324841, 0.5277777777777778, 'x[0] <= -0.911\\ngini = 0.278\\nsamples = 6\\nvalue = [5, 1]'),\n",
       " Text(0.42356687898089174, 0.4722222222222222, 'gini = 0.0\\nsamples = 5\\nvalue = [5, 0]'),\n",
       " Text(0.43630573248407645, 0.4722222222222222, 'gini = 0.0\\nsamples = 1\\nvalue = [0, 1]'),\n",
       " Text(0.4426751592356688, 0.5277777777777778, 'gini = 0.0\\nsamples = 40\\nvalue = [40, 0]'),\n",
       " Text(0.46178343949044587, 0.5833333333333334, 'x[0] <= -0.248\\ngini = 0.375\\nsamples = 4\\nvalue = [3, 1]'),\n",
       " Text(0.4554140127388535, 0.5277777777777778, 'gini = 0.0\\nsamples = 1\\nvalue = [0, 1]'),\n",
       " Text(0.4681528662420382, 0.5277777777777778, 'gini = 0.0\\nsamples = 3\\nvalue = [3, 0]'),\n",
       " Text(0.4968152866242038, 0.6944444444444444, 'x[0] <= -0.837\\ngini = 0.305\\nsamples = 32\\nvalue = [26, 6]'),\n",
       " Text(0.49044585987261147, 0.6388888888888888, 'gini = 0.0\\nsamples = 9\\nvalue = [9, 0]'),\n",
       " Text(0.5031847133757962, 0.6388888888888888, 'x[0] <= -0.808\\ngini = 0.386\\nsamples = 23\\nvalue = [17, 6]'),\n",
       " Text(0.4872611464968153, 0.5833333333333334, 'x[1] <= 0.504\\ngini = 0.444\\nsamples = 6\\nvalue = [2, 4]'),\n",
       " Text(0.48089171974522293, 0.5277777777777778, 'x[1] <= 0.319\\ngini = 0.5\\nsamples = 4\\nvalue = [2, 2]'),\n",
       " Text(0.4745222929936306, 0.4722222222222222, 'gini = 0.0\\nsamples = 1\\nvalue = [0, 1]'),\n",
       " Text(0.4872611464968153, 0.4722222222222222, 'gini = 0.444\\nsamples = 3\\nvalue = [2, 1]'),\n",
       " Text(0.49363057324840764, 0.5277777777777778, 'gini = 0.0\\nsamples = 2\\nvalue = [0, 2]'),\n",
       " Text(0.5191082802547771, 0.5833333333333334, 'x[1] <= 1.328\\ngini = 0.208\\nsamples = 17\\nvalue = [15, 2]'),\n",
       " Text(0.5063694267515924, 0.5277777777777778, 'x[1] <= 0.369\\ngini = 0.133\\nsamples = 14\\nvalue = [13, 1]'),\n",
       " Text(0.5, 0.4722222222222222, 'x[6] <= 0.5\\ngini = 0.375\\nsamples = 4\\nvalue = [3, 1]'),\n",
       " Text(0.49363057324840764, 0.4166666666666667, 'gini = 0.0\\nsamples = 3\\nvalue = [3, 0]'),\n",
       " Text(0.5063694267515924, 0.4166666666666667, 'gini = 0.0\\nsamples = 1\\nvalue = [0, 1]'),\n",
       " Text(0.5127388535031847, 0.4722222222222222, 'gini = 0.0\\nsamples = 10\\nvalue = [10, 0]'),\n",
       " Text(0.5318471337579618, 0.5277777777777778, 'x[1] <= 1.47\\ngini = 0.444\\nsamples = 3\\nvalue = [2, 1]'),\n",
       " Text(0.5254777070063694, 0.4722222222222222, 'gini = 0.0\\nsamples = 1\\nvalue = [0, 1]'),\n",
       " Text(0.5382165605095541, 0.4722222222222222, 'gini = 0.0\\nsamples = 2\\nvalue = [2, 0]'),\n",
       " Text(0.7417396496815286, 0.8055555555555556, 'x[1] <= -0.447\\ngini = 0.156\\nsamples = 293\\nvalue = [268, 25]'),\n",
       " Text(0.7353702229299363, 0.75, 'gini = 0.0\\nsamples = 33\\nvalue = [33, 0]'),\n",
       " Text(0.748109076433121, 0.75, 'x[1] <= 0.369\\ngini = 0.174\\nsamples = 260\\nvalue = [235, 25]'),\n",
       " Text(0.7000398089171974, 0.6944444444444444, 'x[1] <= 0.172\\ngini = 0.21\\nsamples = 185\\nvalue = [163, 22]'),\n",
       " Text(0.6580414012738853, 0.6388888888888888, 'x[8] <= 0.5\\ngini = 0.171\\nsamples = 159\\nvalue = [144, 15]'),\n",
       " Text(0.6281847133757962, 0.5833333333333334, 'x[0] <= -0.828\\ngini = 0.162\\nsamples = 157\\nvalue = [143, 14]'),\n",
       " Text(0.5875796178343949, 0.5277777777777778, 'x[1] <= 0.1\\ngini = 0.248\\nsamples = 62\\nvalue = [53, 9]'),\n",
       " Text(0.5509554140127388, 0.4722222222222222, 'x[1] <= 0.041\\ngini = 0.42\\nsamples = 20\\nvalue = [14, 6]'),\n",
       " Text(0.5445859872611465, 0.4166666666666667, 'x[1] <= -0.293\\ngini = 0.346\\nsamples = 18\\nvalue = [14, 4]'),\n",
       " Text(0.5222929936305732, 0.3611111111111111, 'x[0] <= -1.155\\ngini = 0.5\\nsamples = 4\\nvalue = [2, 2]'),\n",
       " Text(0.5159235668789809, 0.3055555555555556, 'gini = 0.0\\nsamples = 1\\nvalue = [1, 0]'),\n",
       " Text(0.5286624203821656, 0.3055555555555556, 'x[36] <= 0.5\\ngini = 0.444\\nsamples = 3\\nvalue = [1, 2]'),\n",
       " Text(0.5222929936305732, 0.25, 'gini = 0.0\\nsamples = 1\\nvalue = [0, 1]'),\n",
       " Text(0.535031847133758, 0.25, 'x[0] <= -0.831\\ngini = 0.5\\nsamples = 2\\nvalue = [1, 1]'),\n",
       " Text(0.5286624203821656, 0.19444444444444445, 'gini = 0.0\\nsamples = 1\\nvalue = [1, 0]'),\n",
       " Text(0.5414012738853503, 0.19444444444444445, 'gini = 0.0\\nsamples = 1\\nvalue = [0, 1]'),\n",
       " Text(0.5668789808917197, 0.3611111111111111, 'x[0] <= -0.899\\ngini = 0.245\\nsamples = 14\\nvalue = [12, 2]'),\n",
       " Text(0.554140127388535, 0.3055555555555556, 'x[1] <= -0.154\\ngini = 0.5\\nsamples = 2\\nvalue = [1, 1]'),\n",
       " Text(0.5477707006369427, 0.25, 'gini = 0.0\\nsamples = 1\\nvalue = [0, 1]'),\n",
       " Text(0.5605095541401274, 0.25, 'gini = 0.0\\nsamples = 1\\nvalue = [1, 0]'),\n",
       " Text(0.5796178343949044, 0.3055555555555556, 'x[2] <= 0.0\\ngini = 0.153\\nsamples = 12\\nvalue = [11, 1]'),\n",
       " Text(0.5732484076433121, 0.25, 'gini = 0.0\\nsamples = 10\\nvalue = [10, 0]'),\n",
       " Text(0.5859872611464968, 0.25, 'gini = 0.5\\nsamples = 2\\nvalue = [1, 1]'),\n",
       " Text(0.5573248407643312, 0.4166666666666667, 'gini = 0.0\\nsamples = 2\\nvalue = [0, 2]'),\n",
       " Text(0.6242038216560509, 0.4722222222222222, 'x[0] <= -0.834\\ngini = 0.133\\nsamples = 42\\nvalue = [39, 3]'),\n",
       " Text(0.6114649681528662, 0.4166666666666667, 'x[0] <= -0.899\\ngini = 0.097\\nsamples = 39\\nvalue = [37, 2]'),\n",
       " Text(0.6050955414012739, 0.3611111111111111, 'gini = 0.0\\nsamples = 15\\nvalue = [15, 0]'),\n",
       " Text(0.6178343949044586, 0.3611111111111111, 'x[0] <= -0.898\\ngini = 0.153\\nsamples = 24\\nvalue = [22, 2]'),\n",
       " Text(0.6050955414012739, 0.3055555555555556, 'x[1] <= 0.144\\ngini = 0.245\\nsamples = 7\\nvalue = [6, 1]'),\n",
       " Text(0.5987261146496815, 0.25, 'gini = 0.278\\nsamples = 6\\nvalue = [5, 1]'),\n",
       " Text(0.6114649681528662, 0.25, 'gini = 0.0\\nsamples = 1\\nvalue = [1, 0]'),\n",
       " Text(0.6305732484076433, 0.3055555555555556, 'x[0] <= -0.836\\ngini = 0.111\\nsamples = 17\\nvalue = [16, 1]'),\n",
       " Text(0.6242038216560509, 0.25, 'gini = 0.0\\nsamples = 6\\nvalue = [6, 0]'),\n",
       " Text(0.6369426751592356, 0.25, 'x[2] <= 0.0\\ngini = 0.165\\nsamples = 11\\nvalue = [10, 1]'),\n",
       " Text(0.6305732484076433, 0.19444444444444445, 'gini = 0.18\\nsamples = 10\\nvalue = [9, 1]'),\n",
       " Text(0.643312101910828, 0.19444444444444445, 'gini = 0.0\\nsamples = 1\\nvalue = [1, 0]'),\n",
       " Text(0.6369426751592356, 0.4166666666666667, 'x[0] <= -0.831\\ngini = 0.444\\nsamples = 3\\nvalue = [2, 1]'),\n",
       " Text(0.6305732484076433, 0.3611111111111111, 'gini = 0.5\\nsamples = 2\\nvalue = [1, 1]'),\n",
       " Text(0.643312101910828, 0.3611111111111111, 'gini = 0.0\\nsamples = 1\\nvalue = [1, 0]'),\n",
       " Text(0.6687898089171974, 0.5277777777777778, 'x[0] <= -0.018\\ngini = 0.1\\nsamples = 95\\nvalue = [90, 5]'),\n",
       " Text(0.6560509554140127, 0.4722222222222222, 'x[0] <= -0.797\\ngini = 0.068\\nsamples = 85\\nvalue = [82, 3]'),\n",
       " Text(0.6496815286624203, 0.4166666666666667, 'gini = 0.0\\nsamples = 42\\nvalue = [42, 0]'),\n",
       " Text(0.6624203821656051, 0.4166666666666667, 'x[0] <= -0.776\\ngini = 0.13\\nsamples = 43\\nvalue = [40, 3]'),\n",
       " Text(0.6560509554140127, 0.3611111111111111, 'gini = 0.0\\nsamples = 1\\nvalue = [0, 1]'),\n",
       " Text(0.6687898089171974, 0.3611111111111111, 'x[1] <= 0.041\\ngini = 0.091\\nsamples = 42\\nvalue = [40, 2]'),\n",
       " Text(0.6624203821656051, 0.3055555555555556, 'gini = 0.0\\nsamples = 22\\nvalue = [22, 0]'),\n",
       " Text(0.6751592356687898, 0.3055555555555556, 'x[0] <= -0.331\\ngini = 0.18\\nsamples = 20\\nvalue = [18, 2]'),\n",
       " Text(0.6687898089171974, 0.25, 'x[1] <= 0.1\\ngini = 0.32\\nsamples = 10\\nvalue = [8, 2]'),\n",
       " Text(0.6560509554140127, 0.19444444444444445, 'x[5] <= 0.5\\ngini = 0.5\\nsamples = 2\\nvalue = [1, 1]'),\n",
       " Text(0.6496815286624203, 0.1388888888888889, 'gini = 0.0\\nsamples = 1\\nvalue = [0, 1]'),\n",
       " Text(0.6624203821656051, 0.1388888888888889, 'gini = 0.0\\nsamples = 1\\nvalue = [1, 0]'),\n",
       " Text(0.6815286624203821, 0.19444444444444445, 'x[0] <= -0.498\\ngini = 0.219\\nsamples = 8\\nvalue = [7, 1]'),\n",
       " Text(0.6751592356687898, 0.1388888888888889, 'gini = 0.0\\nsamples = 6\\nvalue = [6, 0]'),\n",
       " Text(0.6878980891719745, 0.1388888888888889, 'gini = 0.5\\nsamples = 2\\nvalue = [1, 1]'),\n",
       " Text(0.6815286624203821, 0.25, 'gini = 0.0\\nsamples = 10\\nvalue = [10, 0]'),\n",
       " Text(0.6815286624203821, 0.4722222222222222, 'x[0] <= 0.038\\ngini = 0.32\\nsamples = 10\\nvalue = [8, 2]'),\n",
       " Text(0.6751592356687898, 0.4166666666666667, 'gini = 0.0\\nsamples = 1\\nvalue = [0, 1]'),\n",
       " Text(0.6878980891719745, 0.4166666666666667, 'x[2] <= 0.96\\ngini = 0.198\\nsamples = 9\\nvalue = [8, 1]'),\n",
       " Text(0.6815286624203821, 0.3611111111111111, 'gini = 0.0\\nsamples = 7\\nvalue = [7, 0]'),\n",
       " Text(0.6942675159235668, 0.3611111111111111, 'x[0] <= 0.184\\ngini = 0.5\\nsamples = 2\\nvalue = [1, 1]'),\n",
       " Text(0.6878980891719745, 0.3055555555555556, 'gini = 0.0\\nsamples = 1\\nvalue = [1, 0]'),\n",
       " Text(0.7006369426751592, 0.3055555555555556, 'gini = 0.0\\nsamples = 1\\nvalue = [0, 1]'),\n",
       " Text(0.6878980891719745, 0.5833333333333334, 'x[6] <= 0.5\\ngini = 0.5\\nsamples = 2\\nvalue = [1, 1]'),\n",
       " Text(0.6815286624203821, 0.5277777777777778, 'gini = 0.0\\nsamples = 1\\nvalue = [1, 0]'),\n",
       " Text(0.6942675159235668, 0.5277777777777778, 'gini = 0.0\\nsamples = 1\\nvalue = [0, 1]'),\n",
       " Text(0.7420382165605095, 0.6388888888888888, 'x[0] <= 0.224\\ngini = 0.393\\nsamples = 26\\nvalue = [19, 7]'),\n",
       " Text(0.7356687898089171, 0.5833333333333334, 'x[0] <= -0.648\\ngini = 0.365\\nsamples = 25\\nvalue = [19, 6]'),\n",
       " Text(0.7197452229299363, 0.5277777777777778, 'x[36] <= 0.5\\ngini = 0.291\\nsamples = 17\\nvalue = [14, 3]'),\n",
       " Text(0.7070063694267515, 0.4722222222222222, 'x[1] <= 0.213\\ngini = 0.444\\nsamples = 6\\nvalue = [4, 2]'),\n",
       " Text(0.7006369426751592, 0.4166666666666667, 'gini = 0.0\\nsamples = 2\\nvalue = [0, 2]'),\n",
       " Text(0.7133757961783439, 0.4166666666666667, 'gini = 0.0\\nsamples = 4\\nvalue = [4, 0]'),\n",
       " Text(0.732484076433121, 0.4722222222222222, 'x[1] <= 0.319\\ngini = 0.165\\nsamples = 11\\nvalue = [10, 1]'),\n",
       " Text(0.7261146496815286, 0.4166666666666667, 'gini = 0.0\\nsamples = 8\\nvalue = [8, 0]'),\n",
       " Text(0.7388535031847133, 0.4166666666666667, 'x[0] <= -0.821\\ngini = 0.444\\nsamples = 3\\nvalue = [2, 1]'),\n",
       " Text(0.732484076433121, 0.3611111111111111, 'gini = 0.0\\nsamples = 1\\nvalue = [0, 1]'),\n",
       " Text(0.7452229299363057, 0.3611111111111111, 'gini = 0.0\\nsamples = 2\\nvalue = [2, 0]'),\n",
       " Text(0.7515923566878981, 0.5277777777777778, 'x[0] <= -0.498\\ngini = 0.469\\nsamples = 8\\nvalue = [5, 3]'),\n",
       " Text(0.7452229299363057, 0.4722222222222222, 'gini = 0.0\\nsamples = 2\\nvalue = [0, 2]'),\n",
       " Text(0.7579617834394905, 0.4722222222222222, 'x[1] <= 0.267\\ngini = 0.278\\nsamples = 6\\nvalue = [5, 1]'),\n",
       " Text(0.7515923566878981, 0.4166666666666667, 'gini = 0.0\\nsamples = 4\\nvalue = [4, 0]'),\n",
       " Text(0.7643312101910829, 0.4166666666666667, 'x[5] <= 0.5\\ngini = 0.5\\nsamples = 2\\nvalue = [1, 1]'),\n",
       " Text(0.7579617834394905, 0.3611111111111111, 'gini = 0.0\\nsamples = 1\\nvalue = [1, 0]'),\n",
       " Text(0.7707006369426752, 0.3611111111111111, 'gini = 0.0\\nsamples = 1\\nvalue = [0, 1]'),\n",
       " Text(0.7484076433121019, 0.5833333333333334, 'gini = 0.0\\nsamples = 1\\nvalue = [0, 1]'),\n",
       " Text(0.7961783439490446, 0.6944444444444444, 'x[5] <= 0.5\\ngini = 0.077\\nsamples = 75\\nvalue = [72, 3]'),\n",
       " Text(0.7770700636942676, 0.6388888888888888, 'x[1] <= 0.878\\ngini = 0.038\\nsamples = 52\\nvalue = [51, 1]'),\n",
       " Text(0.7707006369426752, 0.5833333333333334, 'gini = 0.0\\nsamples = 37\\nvalue = [37, 0]'),\n",
       " Text(0.7834394904458599, 0.5833333333333334, 'x[1] <= 0.905\\ngini = 0.124\\nsamples = 15\\nvalue = [14, 1]'),\n",
       " Text(0.7770700636942676, 0.5277777777777778, 'x[0] <= -0.866\\ngini = 0.5\\nsamples = 2\\nvalue = [1, 1]'),\n",
       " Text(0.7707006369426752, 0.4722222222222222, 'gini = 0.0\\nsamples = 1\\nvalue = [1, 0]'),\n",
       " Text(0.7834394904458599, 0.4722222222222222, 'gini = 0.0\\nsamples = 1\\nvalue = [0, 1]'),\n",
       " Text(0.7898089171974523, 0.5277777777777778, 'gini = 0.0\\nsamples = 13\\nvalue = [13, 0]'),\n",
       " Text(0.8152866242038217, 0.6388888888888888, 'x[0] <= -0.331\\ngini = 0.159\\nsamples = 23\\nvalue = [21, 2]'),\n",
       " Text(0.8089171974522293, 0.5833333333333334, 'x[1] <= 0.893\\ngini = 0.298\\nsamples = 11\\nvalue = [9, 2]'),\n",
       " Text(0.802547770700637, 0.5277777777777778, 'x[1] <= 0.724\\ngini = 0.375\\nsamples = 8\\nvalue = [6, 2]'),\n",
       " Text(0.7961783439490446, 0.4722222222222222, 'x[1] <= 0.465\\ngini = 0.245\\nsamples = 7\\nvalue = [6, 1]'),\n",
       " Text(0.7898089171974523, 0.4166666666666667, 'gini = 0.444\\nsamples = 3\\nvalue = [2, 1]'),\n",
       " Text(0.802547770700637, 0.4166666666666667, 'gini = 0.0\\nsamples = 4\\nvalue = [4, 0]'),\n",
       " Text(0.8089171974522293, 0.4722222222222222, 'gini = 0.0\\nsamples = 1\\nvalue = [0, 1]'),\n",
       " Text(0.8152866242038217, 0.5277777777777778, 'gini = 0.0\\nsamples = 3\\nvalue = [3, 0]'),\n",
       " Text(0.821656050955414, 0.5833333333333334, 'gini = 0.0\\nsamples = 12\\nvalue = [12, 0]'),\n",
       " Text(0.8570859872611465, 0.8611111111111112, 'x[0] <= 0.359\\ngini = 0.443\\nsamples = 127\\nvalue = [85, 42]'),\n",
       " Text(0.821656050955414, 0.8055555555555556, 'x[1] <= 1.176\\ngini = 0.43\\nsamples = 16\\nvalue = [5, 11]'),\n",
       " Text(0.8152866242038217, 0.75, 'x[1] <= 0.286\\ngini = 0.153\\nsamples = 12\\nvalue = [1, 11]'),\n",
       " Text(0.8089171974522293, 0.6944444444444444, 'gini = 0.444\\nsamples = 3\\nvalue = [1, 2]'),\n",
       " Text(0.821656050955414, 0.6944444444444444, 'gini = 0.0\\nsamples = 9\\nvalue = [0, 9]'),\n",
       " Text(0.8280254777070064, 0.75, 'gini = 0.0\\nsamples = 4\\nvalue = [4, 0]'),\n",
       " Text(0.892515923566879, 0.8055555555555556, 'x[3] <= 0.5\\ngini = 0.403\\nsamples = 111\\nvalue = [80, 31]'),\n",
       " Text(0.8407643312101911, 0.75, 'x[0] <= 3.0\\ngini = 0.219\\nsamples = 40\\nvalue = [35, 5]'),\n",
       " Text(0.8343949044585988, 0.6944444444444444, 'x[34] <= 0.5\\ngini = 0.145\\nsamples = 38\\nvalue = [35, 3]'),\n",
       " Text(0.8280254777070064, 0.6388888888888888, 'gini = 0.0\\nsamples = 17\\nvalue = [17, 0]'),\n",
       " Text(0.8407643312101911, 0.6388888888888888, 'x[0] <= 1.212\\ngini = 0.245\\nsamples = 21\\nvalue = [18, 3]'),\n",
       " Text(0.8343949044585988, 0.5833333333333334, 'gini = 0.0\\nsamples = 10\\nvalue = [10, 0]'),\n",
       " Text(0.8471337579617835, 0.5833333333333334, 'x[0] <= 1.439\\ngini = 0.397\\nsamples = 11\\nvalue = [8, 3]'),\n",
       " Text(0.8407643312101911, 0.5277777777777778, 'gini = 0.0\\nsamples = 3\\nvalue = [0, 3]'),\n",
       " Text(0.8535031847133758, 0.5277777777777778, 'gini = 0.0\\nsamples = 8\\nvalue = [8, 0]'),\n",
       " Text(0.8471337579617835, 0.6944444444444444, 'gini = 0.0\\nsamples = 2\\nvalue = [0, 2]'),\n",
       " Text(0.9442675159235668, 0.75, 'x[1] <= 0.84\\ngini = 0.464\\nsamples = 71\\nvalue = [45, 26]'),\n",
       " Text(0.9140127388535032, 0.6944444444444444, 'x[0] <= 1.032\\ngini = 0.498\\nsamples = 47\\nvalue = [25, 22]'),\n",
       " Text(0.8853503184713376, 0.6388888888888888, 'x[0] <= 0.697\\ngini = 0.444\\nsamples = 24\\nvalue = [16, 8]'),\n",
       " Text(0.8789808917197452, 0.5833333333333334, 'x[1] <= 0.158\\ngini = 0.5\\nsamples = 16\\nvalue = [8, 8]'),\n",
       " Text(0.8662420382165605, 0.5277777777777778, 'x[0] <= 0.497\\ngini = 0.346\\nsamples = 9\\nvalue = [2, 7]'),\n",
       " Text(0.8598726114649682, 0.4722222222222222, 'gini = 0.0\\nsamples = 5\\nvalue = [0, 5]'),\n",
       " Text(0.8726114649681529, 0.4722222222222222, 'x[0] <= 0.634\\ngini = 0.5\\nsamples = 4\\nvalue = [2, 2]'),\n",
       " Text(0.8662420382165605, 0.4166666666666667, 'gini = 0.0\\nsamples = 2\\nvalue = [2, 0]'),\n",
       " Text(0.8789808917197452, 0.4166666666666667, 'gini = 0.0\\nsamples = 2\\nvalue = [0, 2]'),\n",
       " Text(0.89171974522293, 0.5277777777777778, 'x[0] <= 0.49\\ngini = 0.245\\nsamples = 7\\nvalue = [6, 1]'),\n",
       " Text(0.8853503184713376, 0.4722222222222222, 'gini = 0.0\\nsamples = 5\\nvalue = [5, 0]'),\n",
       " Text(0.8980891719745223, 0.4722222222222222, 'x[0] <= 0.51\\ngini = 0.5\\nsamples = 2\\nvalue = [1, 1]'),\n",
       " Text(0.89171974522293, 0.4166666666666667, 'gini = 0.0\\nsamples = 1\\nvalue = [0, 1]'),\n",
       " Text(0.9044585987261147, 0.4166666666666667, 'gini = 0.0\\nsamples = 1\\nvalue = [1, 0]'),\n",
       " Text(0.89171974522293, 0.5833333333333334, 'gini = 0.0\\nsamples = 8\\nvalue = [8, 0]'),\n",
       " Text(0.9426751592356688, 0.6388888888888888, 'x[0] <= 2.172\\ngini = 0.476\\nsamples = 23\\nvalue = [9, 14]'),\n",
       " Text(0.9363057324840764, 0.5833333333333334, 'x[0] <= 1.518\\ngini = 0.444\\nsamples = 21\\nvalue = [7, 14]'),\n",
       " Text(0.9299363057324841, 0.5277777777777778, 'x[0] <= 1.199\\ngini = 0.484\\nsamples = 17\\nvalue = [7, 10]'),\n",
       " Text(0.9235668789808917, 0.4722222222222222, 'x[1] <= -0.27\\ngini = 0.408\\nsamples = 14\\nvalue = [4, 10]'),\n",
       " Text(0.9171974522292994, 0.4166666666666667, 'gini = 0.0\\nsamples = 1\\nvalue = [1, 0]'),\n",
       " Text(0.9299363057324841, 0.4166666666666667, 'x[1] <= 0.1\\ngini = 0.355\\nsamples = 13\\nvalue = [3, 10]'),\n",
       " Text(0.9235668789808917, 0.3611111111111111, 'gini = 0.0\\nsamples = 3\\nvalue = [0, 3]'),\n",
       " Text(0.9363057324840764, 0.3611111111111111, 'x[1] <= 0.211\\ngini = 0.42\\nsamples = 10\\nvalue = [3, 7]'),\n",
       " Text(0.9299363057324841, 0.3055555555555556, 'gini = 0.5\\nsamples = 4\\nvalue = [2, 2]'),\n",
       " Text(0.9426751592356688, 0.3055555555555556, 'x[1] <= 0.462\\ngini = 0.278\\nsamples = 6\\nvalue = [1, 5]'),\n",
       " Text(0.9363057324840764, 0.25, 'gini = 0.0\\nsamples = 3\\nvalue = [0, 3]'),\n",
       " Text(0.9490445859872612, 0.25, 'x[0] <= 1.043\\ngini = 0.444\\nsamples = 3\\nvalue = [1, 2]'),\n",
       " Text(0.9426751592356688, 0.19444444444444445, 'gini = 0.0\\nsamples = 2\\nvalue = [0, 2]'),\n",
       " Text(0.9554140127388535, 0.19444444444444445, 'gini = 0.0\\nsamples = 1\\nvalue = [1, 0]'),\n",
       " Text(0.9363057324840764, 0.4722222222222222, 'gini = 0.0\\nsamples = 3\\nvalue = [3, 0]'),\n",
       " Text(0.9426751592356688, 0.5277777777777778, 'gini = 0.0\\nsamples = 4\\nvalue = [0, 4]'),\n",
       " Text(0.9490445859872612, 0.5833333333333334, 'gini = 0.0\\nsamples = 2\\nvalue = [2, 0]'),\n",
       " Text(0.9745222929936306, 0.6944444444444444, 'x[1] <= 1.666\\ngini = 0.278\\nsamples = 24\\nvalue = [20, 4]'),\n",
       " Text(0.9681528662420382, 0.6388888888888888, 'x[2] <= 0.0\\ngini = 0.227\\nsamples = 23\\nvalue = [20, 3]'),\n",
       " Text(0.9617834394904459, 0.5833333333333334, 'gini = 0.0\\nsamples = 14\\nvalue = [14, 0]'),\n",
       " Text(0.9745222929936306, 0.5833333333333334, 'x[36] <= 0.5\\ngini = 0.444\\nsamples = 9\\nvalue = [6, 3]'),\n",
       " Text(0.9617834394904459, 0.5277777777777778, 'x[0] <= 1.688\\ngini = 0.444\\nsamples = 3\\nvalue = [1, 2]'),\n",
       " Text(0.9554140127388535, 0.4722222222222222, 'gini = 0.0\\nsamples = 2\\nvalue = [0, 2]'),\n",
       " Text(0.9681528662420382, 0.4722222222222222, 'gini = 0.0\\nsamples = 1\\nvalue = [1, 0]'),\n",
       " Text(0.9872611464968153, 0.5277777777777778, 'x[1] <= 1.035\\ngini = 0.278\\nsamples = 6\\nvalue = [5, 1]'),\n",
       " Text(0.9808917197452229, 0.4722222222222222, 'x[1] <= 0.949\\ngini = 0.5\\nsamples = 2\\nvalue = [1, 1]'),\n",
       " Text(0.9745222929936306, 0.4166666666666667, 'gini = 0.0\\nsamples = 1\\nvalue = [1, 0]'),\n",
       " Text(0.9872611464968153, 0.4166666666666667, 'gini = 0.0\\nsamples = 1\\nvalue = [0, 1]'),\n",
       " Text(0.9936305732484076, 0.4722222222222222, 'gini = 0.0\\nsamples = 4\\nvalue = [4, 0]'),\n",
       " Text(0.9808917197452229, 0.6388888888888888, 'gini = 0.0\\nsamples = 1\\nvalue = [0, 1]')]"
      ]
     },
     "execution_count": 30,
     "metadata": {},
     "output_type": "execute_result"
    },
    {
     "data": {
      "image/png": "[encoded data removed]",
      "text/plain": [
       "<Figure size 640x480 with 1 Axes>"
      ]
     },
     "metadata": {},
     "output_type": "display_data"
    }
   ],
   "source": [
    "tree.plot_tree(dt)"
   ]
  },
  {
   "cell_type": "code",
   "execution_count": 31,
   "id": "00b3538b",
   "metadata": {
    "execution": {
     "iopub.execute_input": "2024-11-03T19:18:43.825125Z",
     "iopub.status.busy": "2024-11-03T19:18:43.824668Z",
     "iopub.status.idle": "2024-11-03T19:18:43.982973Z",
     "shell.execute_reply": "2024-11-03T19:18:43.981789Z"
    },
    "papermill": {
     "duration": 0.17951,
     "end_time": "2024-11-03T19:18:43.985371",
     "exception": false,
     "start_time": "2024-11-03T19:18:43.805861",
     "status": "completed"
    },
    "tags": []
   },
   "outputs": [
    {
     "name": "stdout",
     "output_type": "stream",
     "text": [
      "[0.80337079 0.76966292 0.84269663 0.79775281 0.84745763]\n",
      "0.812188154637212\n"
     ]
    }
   ],
   "source": [
    "knn = KNeighborsClassifier()\n",
    "cv = cross_val_score(knn, x_train_scaled, y_train, cv = 5)\n",
    "print(cv)\n",
    "print(cv.mean())"
   ]
  },
  {
   "cell_type": "code",
   "execution_count": 32,
   "id": "cacf858e",
   "metadata": {
    "execution": {
     "iopub.execute_input": "2024-11-03T19:18:44.021576Z",
     "iopub.status.busy": "2024-11-03T19:18:44.021174Z",
     "iopub.status.idle": "2024-11-03T19:18:45.216097Z",
     "shell.execute_reply": "2024-11-03T19:18:45.214947Z"
    },
    "papermill": {
     "duration": 1.216124,
     "end_time": "2024-11-03T19:18:45.218526",
     "exception": false,
     "start_time": "2024-11-03T19:18:44.002402",
     "status": "completed"
    },
    "tags": []
   },
   "outputs": [
    {
     "name": "stdout",
     "output_type": "stream",
     "text": [
      "[0.79213483 0.78089888 0.84831461 0.75280899 0.8079096 ]\n",
      "0.7964133815781121\n"
     ]
    }
   ],
   "source": [
    "rf = RandomForestClassifier(random_state = 1)\n",
    "cv = cross_val_score(rf,x_train_scaled,y_train,cv=5)\n",
    "print(cv)\n",
    "print(cv.mean())"
   ]
  },
  {
   "cell_type": "code",
   "execution_count": 33,
   "id": "c0f29f75",
   "metadata": {
    "execution": {
     "iopub.execute_input": "2024-11-03T19:18:45.255035Z",
     "iopub.status.busy": "2024-11-03T19:18:45.254583Z",
     "iopub.status.idle": "2024-11-03T19:18:46.476269Z",
     "shell.execute_reply": "2024-11-03T19:18:46.474729Z"
    },
    "papermill": {
     "duration": 1.243592,
     "end_time": "2024-11-03T19:18:46.479072",
     "exception": false,
     "start_time": "2024-11-03T19:18:45.235480",
     "status": "completed"
    },
    "tags": []
   },
   "outputs": [
    {
     "name": "stdout",
     "output_type": "stream",
     "text": [
      "[0.79213483 0.78089888 0.84831461 0.75280899 0.8079096 ]\n",
      "0.7964133815781121\n"
     ]
    }
   ],
   "source": [
    "svc = SVC(probability = True)\n",
    "cv = cross_val_score(rf,x_train_scaled,y_train,cv=5)\n",
    "print(cv)\n",
    "print(cv.mean())"
   ]
  },
  {
   "cell_type": "code",
   "execution_count": 34,
   "id": "2a39939e",
   "metadata": {
    "execution": {
     "iopub.execute_input": "2024-11-03T19:18:46.515599Z",
     "iopub.status.busy": "2024-11-03T19:18:46.515124Z",
     "iopub.status.idle": "2024-11-03T19:18:47.320242Z",
     "shell.execute_reply": "2024-11-03T19:18:47.318929Z"
    },
    "papermill": {
     "duration": 0.826664,
     "end_time": "2024-11-03T19:18:47.322932",
     "exception": false,
     "start_time": "2024-11-03T19:18:46.496268",
     "status": "completed"
    },
    "tags": []
   },
   "outputs": [
    {
     "name": "stdout",
     "output_type": "stream",
     "text": [
      "[0.83146067 0.80898876 0.87078652 0.78089888 0.81920904]\n",
      "0.8222687742017394\n"
     ]
    }
   ],
   "source": [
    "from xgboost import XGBClassifier\n",
    "xgb = XGBClassifier(random_state =1)\n",
    "cv = cross_val_score(xgb,x_train_scaled,y_train,cv=5)\n",
    "print(cv)\n",
    "print(cv.mean())"
   ]
  },
  {
   "cell_type": "code",
   "execution_count": 35,
   "id": "7854cf1f",
   "metadata": {
    "execution": {
     "iopub.execute_input": "2024-11-03T19:18:47.359491Z",
     "iopub.status.busy": "2024-11-03T19:18:47.359071Z",
     "iopub.status.idle": "2024-11-03T19:18:47.365359Z",
     "shell.execute_reply": "2024-11-03T19:18:47.363909Z"
    },
    "papermill": {
     "duration": 0.027919,
     "end_time": "2024-11-03T19:18:47.367914",
     "exception": false,
     "start_time": "2024-11-03T19:18:47.339995",
     "status": "completed"
    },
    "tags": []
   },
   "outputs": [],
   "source": [
    "from sklearn.ensemble import VotingClassifier\n",
    "voting_clf = VotingClassifier(estimators = [('lr', lr), ('knn', knn), ('g', g), ('svc', svc), ('xgb', xgb)], voting = 'soft')"
   ]
  },
  {
   "cell_type": "code",
   "execution_count": 36,
   "id": "b5da1ff2",
   "metadata": {
    "execution": {
     "iopub.execute_input": "2024-11-03T19:18:47.404345Z",
     "iopub.status.busy": "2024-11-03T19:18:47.403438Z",
     "iopub.status.idle": "2024-11-03T19:18:48.866297Z",
     "shell.execute_reply": "2024-11-03T19:18:48.865375Z"
    },
    "papermill": {
     "duration": 1.484151,
     "end_time": "2024-11-03T19:18:48.869184",
     "exception": false,
     "start_time": "2024-11-03T19:18:47.385033",
     "status": "completed"
    },
    "tags": []
   },
   "outputs": [
    {
     "name": "stdout",
     "output_type": "stream",
     "text": [
      "[0.85393258 0.80898876 0.83707865 0.79775281 0.86440678]\n",
      "0.8324319177299563\n"
     ]
    }
   ],
   "source": [
    "cv = cross_val_score(voting_clf,x_train_scaled,y_train,cv=5)\n",
    "print(cv)\n",
    "print(cv.mean())"
   ]
  },
  {
   "cell_type": "code",
   "execution_count": 37,
   "id": "0ada7150",
   "metadata": {
    "execution": {
     "iopub.execute_input": "2024-11-03T19:18:48.906508Z",
     "iopub.status.busy": "2024-11-03T19:18:48.906076Z",
     "iopub.status.idle": "2024-11-03T19:18:48.911590Z",
     "shell.execute_reply": "2024-11-03T19:18:48.910467Z"
    },
    "papermill": {
     "duration": 0.026708,
     "end_time": "2024-11-03T19:18:48.913997",
     "exception": false,
     "start_time": "2024-11-03T19:18:48.887289",
     "status": "completed"
    },
    "tags": []
   },
   "outputs": [],
   "source": [
    "import pandas as pd"
   ]
  },
  {
   "cell_type": "code",
   "execution_count": 38,
   "id": "2b72c171",
   "metadata": {
    "execution": {
     "iopub.execute_input": "2024-11-03T19:18:48.949848Z",
     "iopub.status.busy": "2024-11-03T19:18:48.949429Z",
     "iopub.status.idle": "2024-11-03T19:18:49.330839Z",
     "shell.execute_reply": "2024-11-03T19:18:49.329974Z"
    },
    "papermill": {
     "duration": 0.403173,
     "end_time": "2024-11-03T19:18:49.334211",
     "exception": false,
     "start_time": "2024-11-03T19:18:48.931038",
     "status": "completed"
    },
    "tags": []
   },
   "outputs": [],
   "source": [
    "voting_clf.fit(x_train_scaled, y_train)\n",
    "y_hat_base = voting_clf.predict(x_test_scaled).astype(int)\n"
   ]
  },
  {
   "cell_type": "code",
   "execution_count": 39,
   "id": "8f92f36f",
   "metadata": {
    "execution": {
     "iopub.execute_input": "2024-11-03T19:18:49.398008Z",
     "iopub.status.busy": "2024-11-03T19:18:49.396434Z",
     "iopub.status.idle": "2024-11-03T19:18:49.406001Z",
     "shell.execute_reply": "2024-11-03T19:18:49.404691Z"
    },
    "papermill": {
     "duration": 0.043149,
     "end_time": "2024-11-03T19:18:49.408516",
     "exception": false,
     "start_time": "2024-11-03T19:18:49.365367",
     "status": "completed"
    },
    "tags": []
   },
   "outputs": [
    {
     "data": {
      "text/plain": [
       "array([0, 0, 0, 1, 0, 0, 0, 1, 1, 0, 0, 0, 1, 0, 1, 1, 1, 0, 1, 1, 0, 0,\n",
       "       1, 1, 1, 0, 1, 0, 1, 0, 0, 0, 0, 0, 0, 0, 0, 0, 0, 0, 1, 1, 0, 1,\n",
       "       1, 0, 0, 0, 1, 1, 1, 0, 1, 1, 0, 0, 0, 0, 0, 1, 0, 0, 0, 1, 0, 1,\n",
       "       1, 0, 1, 0, 0, 0, 0, 0, 1, 0, 0, 0, 1, 1, 0, 0, 1, 0, 0, 0, 1, 0,\n",
       "       1, 1, 0, 0, 1, 0, 0, 0, 1, 0, 1, 0, 1, 0, 0, 0, 0, 0, 0, 0, 0, 0,\n",
       "       0, 1, 1, 1, 1, 0, 0, 1, 0, 1, 1, 0, 1, 0, 0, 1, 0, 0, 0, 0, 0, 0,\n",
       "       0, 0, 0, 0, 0, 0, 0, 0, 0, 1, 1, 0, 0, 0, 0, 0, 0, 0, 1, 1, 0, 0,\n",
       "       0, 0, 1, 0, 0, 1, 0, 1, 0, 0, 1, 1, 1, 0, 1, 0, 0, 1, 0, 0, 0, 1,\n",
       "       1, 1, 1, 1, 0, 1, 1, 1, 1, 0, 1, 0, 0, 0, 1, 0, 0, 0, 1, 0, 1, 0,\n",
       "       0, 0, 0, 1, 0, 1, 0, 1, 0, 0, 1, 0, 0, 0, 0, 0, 0, 0, 1, 0, 1, 0,\n",
       "       1, 0, 0, 0, 1, 0, 0, 0, 0, 0, 1, 1, 0, 0, 0, 0, 0, 0, 1, 1, 1, 1,\n",
       "       0, 0, 0, 0, 1, 0, 1, 0, 1, 0, 0, 0, 1, 0, 0, 0, 1, 1, 0, 1, 1, 1,\n",
       "       0, 0, 0, 0, 1, 0, 0, 0, 1, 0, 0, 1, 0, 0, 1, 0, 0, 1, 0, 0, 1, 0,\n",
       "       0, 0, 0, 0, 0, 1, 0, 0, 0, 0, 1, 0, 0, 0, 0, 0, 0, 0, 0, 1, 1, 1,\n",
       "       0, 0, 0, 0, 0, 0, 1, 1, 1, 0, 0, 1, 0, 0, 0, 1, 1, 0, 1, 1, 1, 0,\n",
       "       1, 0, 0, 1, 0, 0, 0, 0, 0, 0, 1, 0, 0, 1, 0, 1, 0, 1, 1, 1, 1, 0,\n",
       "       0, 0, 1, 0, 1, 0, 0, 1, 0, 1, 1, 0, 1, 0, 0, 1, 1, 1, 0, 1, 0, 0,\n",
       "       1, 1, 0, 0, 0, 0, 0, 0, 0, 1, 0, 1, 1, 0, 0, 0, 0, 1, 0, 0, 0, 1,\n",
       "       0, 1, 0, 0, 1, 0, 1, 0, 1, 0, 0, 1, 0, 1, 0, 1, 1, 0, 1, 0, 0, 1])"
      ]
     },
     "execution_count": 39,
     "metadata": {},
     "output_type": "execute_result"
    }
   ],
   "source": [
    "y_hat_base"
   ]
  },
  {
   "cell_type": "code",
   "execution_count": 40,
   "id": "eda518b9",
   "metadata": {
    "execution": {
     "iopub.execute_input": "2024-11-03T19:18:49.445257Z",
     "iopub.status.busy": "2024-11-03T19:18:49.444797Z",
     "iopub.status.idle": "2024-11-03T19:18:49.456694Z",
     "shell.execute_reply": "2024-11-03T19:18:49.455723Z"
    },
    "papermill": {
     "duration": 0.033352,
     "end_time": "2024-11-03T19:18:49.459386",
     "exception": false,
     "start_time": "2024-11-03T19:18:49.426034",
     "status": "completed"
    },
    "tags": []
   },
   "outputs": [],
   "source": [
    "basic_submission = {'PassengerId':testing.PassengerId, 'Survived': y_hat_base}\n",
    "base_submission = pd.DataFrame(data = basic_submission)\n",
    "base_submission.to_csv('base_submission1.csv', index = False)"
   ]
  },
  {
   "cell_type": "code",
   "execution_count": null,
   "id": "4f359159",
   "metadata": {
    "papermill": {
     "duration": 0.016985,
     "end_time": "2024-11-03T19:18:49.493692",
     "exception": false,
     "start_time": "2024-11-03T19:18:49.476707",
     "status": "completed"
    },
    "tags": []
   },
   "outputs": [],
   "source": []
  }
 ],
 "metadata": {
  "kaggle": {
   "accelerator": "none",
   "dataSources": [
    {
     "databundleVersionId": 26502,
     "sourceId": 3136,
     "sourceType": "competition"
    }
   ],
   "dockerImageVersionId": 30786,
   "isGpuEnabled": false,
   "isInternetEnabled": false,
   "language": "python",
   "sourceType": "notebook"
  },
  "kernelspec": {
   "display_name": "Python 3",
   "language": "python",
   "name": "python3"
  },
  "language_info": {
   "codemirror_mode": {
    "name": "ipython",
    "version": 3
   },
   "file_extension": ".py",
   "mimetype": "text/x-python",
   "name": "python",
   "nbconvert_exporter": "python",
   "pygments_lexer": "ipython3",
   "version": "3.10.14"
  },
  "papermill": {
   "default_parameters": {},
   "duration": 37.344041,
   "end_time": "2024-11-03T19:18:50.233916",
   "environment_variables": {},
   "exception": null,
   "input_path": "__notebook__.ipynb",
   "output_path": "__notebook__.ipynb",
   "parameters": {},
   "start_time": "2024-11-03T19:18:12.889875",
   "version": "2.6.0"
  }
 },
 "nbformat": 4,
 "nbformat_minor": 5
}
